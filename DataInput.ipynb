{
 "cells": [
  {
   "cell_type": "code",
   "execution_count": 1,
   "metadata": {},
   "outputs": [],
   "source": [
    "import numpy as np\n",
    "import pandas as pd\n",
    "import matplotlib.pyplot as plt\n"
   ]
  },
  {
   "cell_type": "code",
   "execution_count": 2,
   "metadata": {},
   "outputs": [],
   "source": [
    "import findspark\n",
    "findspark.init()"
   ]
  },
  {
   "cell_type": "code",
   "execution_count": 3,
   "metadata": {},
   "outputs": [],
   "source": [
    "clientdata = pd.read_csv(\"./cliente_tabla.csv/cliente_tabla.csv\")\n",
    "productdata = pd.read_csv(\"./producto_tabla.csv/producto_tabla.csv\")\n",
    "townstate = pd.read_csv(\"./town_state.csv/town_state.csv\")\n"
   ]
  },
  {
   "cell_type": "code",
   "execution_count": null,
   "metadata": {},
   "outputs": [],
   "source": [
    "traindata = pd.read_csv(\"./train.csv/train.csv\")"
   ]
  },
  {
   "cell_type": "code",
   "execution_count": 4,
   "metadata": {},
   "outputs": [],
   "source": [
    "import pyspark\n",
    "from pyspark.sql import SparkSession\n",
    "spark = SparkSession.builder.getOrCreate()"
   ]
  },
  {
   "cell_type": "code",
   "execution_count": 5,
   "metadata": {},
   "outputs": [],
   "source": [
    "traindata = spark.read.csv(\"./train.csv/train.csv\",header=True,inferSchema=True)"
   ]
  },
  {
   "cell_type": "code",
   "execution_count": null,
   "metadata": {},
   "outputs": [],
   "source": []
  },
  {
   "cell_type": "code",
   "execution_count": 8,
   "metadata": {},
   "outputs": [
    {
     "name": "stdout",
     "output_type": "stream",
     "text": [
      "root\n",
      " |-- Semana: integer (nullable = true)\n",
      " |-- Agencia_ID: integer (nullable = true)\n",
      " |-- Canal_ID: integer (nullable = true)\n",
      " |-- Ruta_SAK: integer (nullable = true)\n",
      " |-- Cliente_ID: integer (nullable = true)\n",
      " |-- Producto_ID: integer (nullable = true)\n",
      " |-- Venta_uni_hoy: integer (nullable = true)\n",
      " |-- Venta_hoy: double (nullable = true)\n",
      " |-- Dev_uni_proxima: integer (nullable = true)\n",
      " |-- Dev_proxima: double (nullable = true)\n",
      " |-- Demanda_uni_equil: integer (nullable = true)\n",
      "\n"
     ]
    }
   ],
   "source": [
    "traindata.printSchema()"
   ]
  },
  {
   "cell_type": "code",
   "execution_count": 29,
   "metadata": {},
   "outputs": [],
   "source": [
    "from pyspark.sql.functions import max,count\n",
    "#traindata.select(max('Semana')).show()"
   ]
  },
  {
   "cell_type": "code",
   "execution_count": 16,
   "metadata": {},
   "outputs": [
    {
     "name": "stdout",
     "output_type": "stream",
     "text": [
      "+---------------+-------------+-------------+---------------+----------------+------------------+--------------------+\n",
      "|max(Agencia_ID)|max(Canal_ID)|max(Ruta_SAK)|max(Cliente_ID)|max(Producto_ID)|max(Venta_uni_hoy)|max(Dev_uni_proxima)|\n",
      "+---------------+-------------+-------------+---------------+----------------+------------------+--------------------+\n",
      "|          25759|           11|         9991|     2015152015|           49997|              7200|              250000|\n",
      "+---------------+-------------+-------------+---------------+----------------+------------------+--------------------+\n",
      "\n"
     ]
    }
   ],
   "source": [
    "traindata.select(max('Agencia_ID'), max('Canal_ID'), max('Ruta_SAK'), max('Cliente_ID'), max('Producto_ID'), max('Venta_uni_hoy'),\n",
    "                max('Dev_uni_proxima')).show()"
   ]
  },
  {
   "cell_type": "code",
   "execution_count": 5,
   "metadata": {},
   "outputs": [],
   "source": [
    "from pyspark.sql.types import StructField,StringType,IntegerType,StructType, DoubleType, ShortType, ByteType\n",
    "data_schema = [StructField(\"WeekNumber\", ByteType(), True),StructField(\"DepotID\", ShortType(), True),\n",
    "              StructField(\"SalesChannelID\", ByteType(), True),StructField(\"RouteID\", ShortType(), True),\n",
    "              StructField(\"ClientID\", IntegerType(), True),StructField(\"ProductID\", ShortType(), True),\n",
    "              StructField(\"SalesUnits\", ShortType(), True),StructField(\"Sales\", DoubleType(), True),\n",
    "              StructField(\"ReturnUnits\", IntegerType(), True),StructField(\"Returns\", DoubleType(), True),\n",
    "              StructField(\"Demand\", IntegerType(), True)]\n",
    "final_struc = StructType(fields=data_schema)\n",
    "df = spark.read.csv(\"./train.csv/train.csv\", schema=final_struc)"
   ]
  },
  {
   "cell_type": "code",
   "execution_count": 6,
   "metadata": {},
   "outputs": [
    {
     "name": "stdout",
     "output_type": "stream",
     "text": [
      "root\n",
      " |-- WeekNumber: byte (nullable = true)\n",
      " |-- DepotID: short (nullable = true)\n",
      " |-- SalesChannelID: byte (nullable = true)\n",
      " |-- RouteID: short (nullable = true)\n",
      " |-- ClientID: integer (nullable = true)\n",
      " |-- ProductID: short (nullable = true)\n",
      " |-- SalesUnits: short (nullable = true)\n",
      " |-- Sales: double (nullable = true)\n",
      " |-- ReturnUnits: integer (nullable = true)\n",
      " |-- Returns: double (nullable = true)\n",
      " |-- Demand: integer (nullable = true)\n",
      "\n"
     ]
    }
   ],
   "source": [
    "df.printSchema()"
   ]
  },
  {
   "cell_type": "code",
   "execution_count": 32,
   "metadata": {},
   "outputs": [
    {
     "name": "stdout",
     "output_type": "stream",
     "text": [
      "+--------------+--------+\n",
      "|SalesChannelID|   count|\n",
      "+--------------+--------+\n",
      "|          null|       1|\n",
      "|             1|67435217|\n",
      "|             6|  281389|\n",
      "|             5|  145818|\n",
      "|             9|     378|\n",
      "|             4| 3757773|\n",
      "|             8|   66970|\n",
      "|             7|  671128|\n",
      "|            11|  982295|\n",
      "|             2|  839496|\n",
      "+--------------+--------+\n",
      "\n"
     ]
    }
   ],
   "source": [
    "df.groupBy(\"SalesChannelID\").count().show()"
   ]
  },
  {
   "cell_type": "code",
   "execution_count": 8,
   "metadata": {},
   "outputs": [],
   "source": [
    "train = df.filter(df['SalesChannelID'] == 11).toPandas()"
   ]
  },
  {
   "cell_type": "code",
   "execution_count": 9,
   "metadata": {},
   "outputs": [],
   "source": [
    "train.to_csv(\"traindata.csv\")"
   ]
  },
  {
   "cell_type": "code",
   "execution_count": 24,
   "metadata": {},
   "outputs": [
    {
     "name": "stdout",
     "output_type": "stream",
     "text": [
      "<class 'pandas.core.frame.DataFrame'>\n",
      "RangeIndex: 982295 entries, 0 to 982294\n",
      "Data columns (total 11 columns):\n",
      "WeekNumber        982295 non-null int8\n",
      "DepotID           982295 non-null int16\n",
      "SalesChannelID    982295 non-null int8\n",
      "RouteID           982295 non-null int16\n",
      "ClientID          982295 non-null int32\n",
      "ProductID         528498 non-null float64\n",
      "SalesUnits        982295 non-null int16\n",
      "Sales             982295 non-null float64\n",
      "ReturnUnits       982295 non-null int32\n",
      "Returns           982295 non-null float64\n",
      "Demand            982295 non-null int32\n",
      "dtypes: float64(3), int16(3), int32(3), int8(2)\n",
      "memory usage: 41.2 MB\n"
     ]
    }
   ],
   "source": [
    "train.info()"
   ]
  },
  {
   "cell_type": "code",
   "execution_count": 11,
   "metadata": {},
   "outputs": [
    {
     "data": {
      "text/html": [
       "<div>\n",
       "<style scoped>\n",
       "    .dataframe tbody tr th:only-of-type {\n",
       "        vertical-align: middle;\n",
       "    }\n",
       "\n",
       "    .dataframe tbody tr th {\n",
       "        vertical-align: top;\n",
       "    }\n",
       "\n",
       "    .dataframe thead th {\n",
       "        text-align: right;\n",
       "    }\n",
       "</style>\n",
       "<table border=\"1\" class=\"dataframe\">\n",
       "  <thead>\n",
       "    <tr style=\"text-align: right;\">\n",
       "      <th></th>\n",
       "      <th>Cliente_ID</th>\n",
       "      <th>NombreCliente</th>\n",
       "    </tr>\n",
       "  </thead>\n",
       "  <tbody>\n",
       "    <tr>\n",
       "      <td>0</td>\n",
       "      <td>0</td>\n",
       "      <td>SIN NOMBRE</td>\n",
       "    </tr>\n",
       "    <tr>\n",
       "      <td>1</td>\n",
       "      <td>1</td>\n",
       "      <td>OXXO XINANTECATL</td>\n",
       "    </tr>\n",
       "    <tr>\n",
       "      <td>2</td>\n",
       "      <td>2</td>\n",
       "      <td>SIN NOMBRE</td>\n",
       "    </tr>\n",
       "    <tr>\n",
       "      <td>3</td>\n",
       "      <td>3</td>\n",
       "      <td>EL MORENO</td>\n",
       "    </tr>\n",
       "    <tr>\n",
       "      <td>4</td>\n",
       "      <td>4</td>\n",
       "      <td>SDN SER  DE ALIM  CUERPO SA CIA  DE INT</td>\n",
       "    </tr>\n",
       "  </tbody>\n",
       "</table>\n",
       "</div>"
      ],
      "text/plain": [
       "   Cliente_ID                            NombreCliente\n",
       "0           0                               SIN NOMBRE\n",
       "1           1                         OXXO XINANTECATL\n",
       "2           2                               SIN NOMBRE\n",
       "3           3                                EL MORENO\n",
       "4           4  SDN SER  DE ALIM  CUERPO SA CIA  DE INT"
      ]
     },
     "execution_count": 11,
     "metadata": {},
     "output_type": "execute_result"
    }
   ],
   "source": [
    "clientdata.head()"
   ]
  },
  {
   "cell_type": "code",
   "execution_count": 22,
   "metadata": {},
   "outputs": [
    {
     "data": {
      "text/html": [
       "<div>\n",
       "<style scoped>\n",
       "    .dataframe tbody tr th:only-of-type {\n",
       "        vertical-align: middle;\n",
       "    }\n",
       "\n",
       "    .dataframe tbody tr th {\n",
       "        vertical-align: top;\n",
       "    }\n",
       "\n",
       "    .dataframe thead th {\n",
       "        text-align: right;\n",
       "    }\n",
       "</style>\n",
       "<table border=\"1\" class=\"dataframe\">\n",
       "  <thead>\n",
       "    <tr style=\"text-align: right;\">\n",
       "      <th></th>\n",
       "      <th>Cliente_ID</th>\n",
       "      <th>NombreCliente</th>\n",
       "    </tr>\n",
       "  </thead>\n",
       "  <tbody>\n",
       "    <tr>\n",
       "      <td>1</td>\n",
       "      <td>1</td>\n",
       "      <td>OXXO XINANTECATL</td>\n",
       "    </tr>\n",
       "    <tr>\n",
       "      <td>47</td>\n",
       "      <td>46</td>\n",
       "      <td>OXXO SAN CARLOS</td>\n",
       "    </tr>\n",
       "    <tr>\n",
       "      <td>1228</td>\n",
       "      <td>5408</td>\n",
       "      <td>OXXO LA MORA</td>\n",
       "    </tr>\n",
       "    <tr>\n",
       "      <td>2377</td>\n",
       "      <td>8487</td>\n",
       "      <td>OXXO 5 DE MAYO</td>\n",
       "    </tr>\n",
       "    <tr>\n",
       "      <td>2509</td>\n",
       "      <td>8825</td>\n",
       "      <td>OXXO SAN SEBASTIAN</td>\n",
       "    </tr>\n",
       "    <tr>\n",
       "      <td>...</td>\n",
       "      <td>...</td>\n",
       "      <td>...</td>\n",
       "    </tr>\n",
       "    <tr>\n",
       "      <td>935353</td>\n",
       "      <td>10351796</td>\n",
       "      <td>OXXO ALAMO</td>\n",
       "    </tr>\n",
       "    <tr>\n",
       "      <td>935354</td>\n",
       "      <td>10351802</td>\n",
       "      <td>OXXO IDOLO II</td>\n",
       "    </tr>\n",
       "    <tr>\n",
       "      <td>935355</td>\n",
       "      <td>10351808</td>\n",
       "      <td>OXXO TUXPAM TAMIAHUA</td>\n",
       "    </tr>\n",
       "    <tr>\n",
       "      <td>935356</td>\n",
       "      <td>10351814</td>\n",
       "      <td>OXXO DE LA LLAVE</td>\n",
       "    </tr>\n",
       "    <tr>\n",
       "      <td>935357</td>\n",
       "      <td>11011586</td>\n",
       "      <td>OXXO PETEN</td>\n",
       "    </tr>\n",
       "  </tbody>\n",
       "</table>\n",
       "<p>9014 rows × 2 columns</p>\n",
       "</div>"
      ],
      "text/plain": [
       "        Cliente_ID         NombreCliente\n",
       "1                1      OXXO XINANTECATL\n",
       "47              46       OXXO SAN CARLOS\n",
       "1228          5408          OXXO LA MORA\n",
       "2377          8487        OXXO 5 DE MAYO\n",
       "2509          8825    OXXO SAN SEBASTIAN\n",
       "...            ...                   ...\n",
       "935353    10351796            OXXO ALAMO\n",
       "935354    10351802         OXXO IDOLO II\n",
       "935355    10351808  OXXO TUXPAM TAMIAHUA\n",
       "935356    10351814      OXXO DE LA LLAVE\n",
       "935357    11011586            OXXO PETEN\n",
       "\n",
       "[9014 rows x 2 columns]"
      ]
     },
     "execution_count": 22,
     "metadata": {},
     "output_type": "execute_result"
    }
   ],
   "source": [
    "clientdata[clientdata['NombreCliente'].apply(lambda x : 'OXXO' in  x)]"
   ]
  },
  {
   "cell_type": "code",
   "execution_count": 19,
   "metadata": {},
   "outputs": [
    {
     "data": {
      "text/html": [
       "<div>\n",
       "<style scoped>\n",
       "    .dataframe tbody tr th:only-of-type {\n",
       "        vertical-align: middle;\n",
       "    }\n",
       "\n",
       "    .dataframe tbody tr th {\n",
       "        vertical-align: top;\n",
       "    }\n",
       "\n",
       "    .dataframe thead th {\n",
       "        text-align: right;\n",
       "    }\n",
       "</style>\n",
       "<table border=\"1\" class=\"dataframe\">\n",
       "  <thead>\n",
       "    <tr style=\"text-align: right;\">\n",
       "      <th></th>\n",
       "      <th>Producto_ID</th>\n",
       "      <th>NombreProducto</th>\n",
       "    </tr>\n",
       "  </thead>\n",
       "  <tbody>\n",
       "    <tr>\n",
       "      <td>0</td>\n",
       "      <td>0</td>\n",
       "      <td>NO IDENTIFICADO 0</td>\n",
       "    </tr>\n",
       "    <tr>\n",
       "      <td>1</td>\n",
       "      <td>9</td>\n",
       "      <td>Capuccino Moka 750g NES 9</td>\n",
       "    </tr>\n",
       "    <tr>\n",
       "      <td>2</td>\n",
       "      <td>41</td>\n",
       "      <td>Bimbollos Ext sAjonjoli 6p 480g BIM 41</td>\n",
       "    </tr>\n",
       "    <tr>\n",
       "      <td>3</td>\n",
       "      <td>53</td>\n",
       "      <td>Burritos Sincro 170g CU LON 53</td>\n",
       "    </tr>\n",
       "    <tr>\n",
       "      <td>4</td>\n",
       "      <td>72</td>\n",
       "      <td>Div Tira Mini Doradita 4p 45g TR 72</td>\n",
       "    </tr>\n",
       "  </tbody>\n",
       "</table>\n",
       "</div>"
      ],
      "text/plain": [
       "   Producto_ID                          NombreProducto\n",
       "0            0                       NO IDENTIFICADO 0\n",
       "1            9               Capuccino Moka 750g NES 9\n",
       "2           41  Bimbollos Ext sAjonjoli 6p 480g BIM 41\n",
       "3           53          Burritos Sincro 170g CU LON 53\n",
       "4           72     Div Tira Mini Doradita 4p 45g TR 72"
      ]
     },
     "execution_count": 19,
     "metadata": {},
     "output_type": "execute_result"
    }
   ],
   "source": [
    "productdata.head()"
   ]
  },
  {
   "cell_type": "code",
   "execution_count": 21,
   "metadata": {},
   "outputs": [
    {
     "data": {
      "text/plain": [
       "8"
      ]
     },
     "execution_count": 21,
     "metadata": {},
     "output_type": "execute_result"
    }
   ],
   "source": [
    "len(productdata[productdata['NombreProducto'].apply(lambda x : 'Div Tira Mini Doradita' in  x)])"
   ]
  },
  {
   "cell_type": "markdown",
   "metadata": {},
   "source": [
    "There are multiple repititions of same/similar client name and similar product names"
   ]
  },
  {
   "cell_type": "code",
   "execution_count": 41,
   "metadata": {},
   "outputs": [],
   "source": [
    "clientid = clientdata.groupby('Cliente_ID').count()\n",
    "dupliClientID = clientid[clientid['NombreCliente'] > 1].index.values"
   ]
  },
  {
   "cell_type": "code",
   "execution_count": 44,
   "metadata": {},
   "outputs": [],
   "source": [
    "duplicatedata = clientdata[clientdata['Cliente_ID'].apply(lambda x : x in dupliClientID)]"
   ]
  },
  {
   "cell_type": "code",
   "execution_count": 48,
   "metadata": {},
   "outputs": [],
   "source": [
    "x = 0\n",
    "for i in range(0,9000, 2):\n",
    "    if duplicatedata.iloc[i]['NombreCliente'] != duplicatedata.iloc[i+1]['NombreCliente']:\n",
    "       x = i "
   ]
  },
  {
   "cell_type": "code",
   "execution_count": 49,
   "metadata": {},
   "outputs": [
    {
     "data": {
      "text/plain": [
       "8998"
      ]
     },
     "execution_count": 49,
     "metadata": {},
     "output_type": "execute_result"
    }
   ],
   "source": [
    "x"
   ]
  },
  {
   "cell_type": "markdown",
   "metadata": {},
   "source": [
    "For duplicate client ids, the client names are same, so we can delete the duplicate data safely"
   ]
  },
  {
   "cell_type": "code",
   "execution_count": null,
   "metadata": {},
   "outputs": [],
   "source": []
  }
 ],
 "metadata": {
  "kernelspec": {
   "display_name": "Python 3",
   "language": "python",
   "name": "python3"
  },
  "language_info": {
   "codemirror_mode": {
    "name": "ipython",
    "version": 3
   },
   "file_extension": ".py",
   "mimetype": "text/x-python",
   "name": "python",
   "nbconvert_exporter": "python",
   "pygments_lexer": "ipython3",
   "version": "3.7.4"
  }
 },
 "nbformat": 4,
 "nbformat_minor": 2
}
