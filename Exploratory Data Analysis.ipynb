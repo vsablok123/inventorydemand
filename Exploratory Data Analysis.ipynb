{
 "cells": [
  {
   "cell_type": "code",
   "execution_count": 1,
   "metadata": {},
   "outputs": [],
   "source": [
    "import numpy as np\n",
    "import pandas as pd\n",
    "import matplotlib.pyplot as plt\n",
    "import seaborn as sns"
   ]
  },
  {
   "cell_type": "code",
   "execution_count": 2,
   "metadata": {},
   "outputs": [],
   "source": [
    "train = pd.read_csv(\"traindata.csv\")"
   ]
  },
  {
   "cell_type": "code",
   "execution_count": 4,
   "metadata": {},
   "outputs": [
    {
     "name": "stdout",
     "output_type": "stream",
     "text": [
      "<class 'pandas.core.frame.DataFrame'>\n",
      "RangeIndex: 982295 entries, 0 to 982294\n",
      "Data columns (total 12 columns):\n",
      "Unnamed: 0        982295 non-null int64\n",
      "WeekNumber        982295 non-null int64\n",
      "DepotID           982295 non-null int64\n",
      "SalesChannelID    982295 non-null int64\n",
      "RouteID           982295 non-null int64\n",
      "ClientID          982295 non-null int64\n",
      "ProductID         528498 non-null float64\n",
      "SalesUnits        982295 non-null int64\n",
      "Sales             982295 non-null float64\n",
      "ReturnUnits       982295 non-null int64\n",
      "Returns           982295 non-null float64\n",
      "Demand            982295 non-null int64\n",
      "dtypes: float64(3), int64(9)\n",
      "memory usage: 89.9 MB\n"
     ]
    }
   ],
   "source": [
    "train.info()\n",
    "#Data is coming in int64 and float64 format. TODO -> to change it."
   ]
  },
  {
   "cell_type": "code",
   "execution_count": 3,
   "metadata": {},
   "outputs": [],
   "source": [
    "clientdata = pd.read_csv(\"./cliente_tabla.csv/cliente_tabla.csv\")\n",
    "productdata = pd.read_csv(\"./producto_tabla.csv/producto_tabla.csv\")\n",
    "townstate = pd.read_csv(\"./town_state.csv/town_state.csv\")"
   ]
  },
  {
   "cell_type": "code",
   "execution_count": 6,
   "metadata": {},
   "outputs": [],
   "source": [
    "test = pd.read_csv(\"./test.csv/test.csv\")"
   ]
  },
  {
   "cell_type": "code",
   "execution_count": 7,
   "metadata": {},
   "outputs": [],
   "source": [
    "cleanTest = test[test['Canal_ID'] == 11]\n",
    "del test"
   ]
  },
  {
   "cell_type": "code",
   "execution_count": 18,
   "metadata": {},
   "outputs": [],
   "source": []
  },
  {
   "cell_type": "code",
   "execution_count": 10,
   "metadata": {},
   "outputs": [],
   "source": [
    "#It is noticed that many clients have same/similar names but different client IDs. We will try to\n",
    "#distinctly identify all individual clients. Using new column 'DistinctClientID'"
   ]
  },
  {
   "cell_type": "code",
   "execution_count": 4,
   "metadata": {},
   "outputs": [],
   "source": [
    "ClientCounts = clientdata['NombreCliente'].value_counts()"
   ]
  },
  {
   "cell_type": "code",
   "execution_count": 5,
   "metadata": {},
   "outputs": [],
   "source": [
    "cleanClientData = pd.DataFrame(data=ClientCounts.index.values, columns=['Name'])"
   ]
  },
  {
   "cell_type": "code",
   "execution_count": 6,
   "metadata": {},
   "outputs": [],
   "source": [
    "cleanClientData.reset_index(inplace=True)"
   ]
  },
  {
   "cell_type": "code",
   "execution_count": 23,
   "metadata": {},
   "outputs": [],
   "source": [
    "#For products, it is a good idea to extract the main name of each of the product using regular expression. Since we see that the main name \n",
    "#has a number after it. we can just separate on the first appearing number."
   ]
  },
  {
   "cell_type": "code",
   "execution_count": 7,
   "metadata": {},
   "outputs": [],
   "source": [
    "import re\n",
    "#Split the string at the first digit character:\n",
    "productdata['shortname'] = productdata['NombreProducto'].apply(lambda x:  re.split(\"\\s\\d\", x, 1)[0])\n"
   ]
  },
  {
   "cell_type": "code",
   "execution_count": 30,
   "metadata": {},
   "outputs": [],
   "source": [
    "#We find using the shortname that 2500 products are actually 1000 products with different size variants"
   ]
  },
  {
   "cell_type": "code",
   "execution_count": 58,
   "metadata": {},
   "outputs": [
    {
     "data": {
      "text/html": [
       "<div>\n",
       "<style scoped>\n",
       "    .dataframe tbody tr th:only-of-type {\n",
       "        vertical-align: middle;\n",
       "    }\n",
       "\n",
       "    .dataframe tbody tr th {\n",
       "        vertical-align: top;\n",
       "    }\n",
       "\n",
       "    .dataframe thead th {\n",
       "        text-align: right;\n",
       "    }\n",
       "</style>\n",
       "<table border=\"1\" class=\"dataframe\">\n",
       "  <thead>\n",
       "    <tr style=\"text-align: right;\">\n",
       "      <th></th>\n",
       "      <th>Unnamed: 0</th>\n",
       "      <th>WeekNumber</th>\n",
       "      <th>DepotID</th>\n",
       "      <th>SalesChannelID</th>\n",
       "      <th>RouteID</th>\n",
       "      <th>ClientID</th>\n",
       "      <th>ProductID</th>\n",
       "      <th>SalesUnits</th>\n",
       "      <th>Sales</th>\n",
       "      <th>ReturnUnits</th>\n",
       "      <th>Returns</th>\n",
       "      <th>Demand</th>\n",
       "    </tr>\n",
       "  </thead>\n",
       "  <tbody>\n",
       "    <tr>\n",
       "      <td>982290</td>\n",
       "      <td>982290</td>\n",
       "      <td>9</td>\n",
       "      <td>24669</td>\n",
       "      <td>11</td>\n",
       "      <td>3901</td>\n",
       "      <td>4620106</td>\n",
       "      <td>NaN</td>\n",
       "      <td>16</td>\n",
       "      <td>494.56</td>\n",
       "      <td>0</td>\n",
       "      <td>0.0</td>\n",
       "      <td>16</td>\n",
       "    </tr>\n",
       "    <tr>\n",
       "      <td>982291</td>\n",
       "      <td>982291</td>\n",
       "      <td>9</td>\n",
       "      <td>24669</td>\n",
       "      <td>11</td>\n",
       "      <td>3901</td>\n",
       "      <td>4714568</td>\n",
       "      <td>NaN</td>\n",
       "      <td>20</td>\n",
       "      <td>262.80</td>\n",
       "      <td>0</td>\n",
       "      <td>0.0</td>\n",
       "      <td>20</td>\n",
       "    </tr>\n",
       "    <tr>\n",
       "      <td>982292</td>\n",
       "      <td>982292</td>\n",
       "      <td>9</td>\n",
       "      <td>24669</td>\n",
       "      <td>11</td>\n",
       "      <td>3901</td>\n",
       "      <td>4728956</td>\n",
       "      <td>NaN</td>\n",
       "      <td>6</td>\n",
       "      <td>185.46</td>\n",
       "      <td>0</td>\n",
       "      <td>0.0</td>\n",
       "      <td>6</td>\n",
       "    </tr>\n",
       "    <tr>\n",
       "      <td>982293</td>\n",
       "      <td>982293</td>\n",
       "      <td>9</td>\n",
       "      <td>24669</td>\n",
       "      <td>11</td>\n",
       "      <td>3901</td>\n",
       "      <td>7684929</td>\n",
       "      <td>NaN</td>\n",
       "      <td>4</td>\n",
       "      <td>123.64</td>\n",
       "      <td>0</td>\n",
       "      <td>0.0</td>\n",
       "      <td>4</td>\n",
       "    </tr>\n",
       "    <tr>\n",
       "      <td>982294</td>\n",
       "      <td>982294</td>\n",
       "      <td>9</td>\n",
       "      <td>24669</td>\n",
       "      <td>11</td>\n",
       "      <td>3901</td>\n",
       "      <td>7833780</td>\n",
       "      <td>NaN</td>\n",
       "      <td>10</td>\n",
       "      <td>309.10</td>\n",
       "      <td>0</td>\n",
       "      <td>0.0</td>\n",
       "      <td>10</td>\n",
       "    </tr>\n",
       "  </tbody>\n",
       "</table>\n",
       "</div>"
      ],
      "text/plain": [
       "        Unnamed: 0  WeekNumber  DepotID  SalesChannelID  RouteID  ClientID  \\\n",
       "982290      982290           9    24669              11     3901   4620106   \n",
       "982291      982291           9    24669              11     3901   4714568   \n",
       "982292      982292           9    24669              11     3901   4728956   \n",
       "982293      982293           9    24669              11     3901   7684929   \n",
       "982294      982294           9    24669              11     3901   7833780   \n",
       "\n",
       "        ProductID  SalesUnits   Sales  ReturnUnits  Returns  Demand  \n",
       "982290        NaN          16  494.56            0      0.0      16  \n",
       "982291        NaN          20  262.80            0      0.0      20  \n",
       "982292        NaN           6  185.46            0      0.0       6  \n",
       "982293        NaN           4  123.64            0      0.0       4  \n",
       "982294        NaN          10  309.10            0      0.0      10  "
      ]
     },
     "execution_count": 58,
     "metadata": {},
     "output_type": "execute_result"
    }
   ],
   "source": [
    "train.tail()"
   ]
  },
  {
   "cell_type": "code",
   "execution_count": 13,
   "metadata": {},
   "outputs": [
    {
     "data": {
      "text/plain": [
       "<matplotlib.axes._subplots.AxesSubplot at 0x19bf6e79a08>"
      ]
     },
     "execution_count": 13,
     "metadata": {},
     "output_type": "execute_result"
    },
    {
     "data": {
      "image/png": "[encoded data removed]",
      "text/plain": [
       "<Figure size 432x288 with 1 Axes>"
      ]
     },
     "metadata": {
      "needs_background": "light"
     },
     "output_type": "display_data"
    }
   ],
   "source": [
    "#Plotting between Sales and Demand for products\n",
    "sns.scatterplot(x='Demand', y='SalesUnits',data=train)\n",
    "\n",
    "#the plot tells us that demand and sales are exactly same for prod 1146, and there are no returns"
   ]
  },
  {
   "cell_type": "code",
   "execution_count": null,
   "metadata": {},
   "outputs": [],
   "source": []
  },
  {
   "cell_type": "code",
   "execution_count": 14,
   "metadata": {},
   "outputs": [
    {
     "data": {
      "text/plain": [
       " 0       974496\n",
       "-1         1536\n",
       "-2          849\n",
       "-3          532\n",
       "-4          451\n",
       "          ...  \n",
       "-194          1\n",
       "-193          1\n",
       "-192          1\n",
       "-704          1\n",
       "-1673         1\n",
       "Length: 280, dtype: int64"
      ]
     },
     "execution_count": 14,
     "metadata": {},
     "output_type": "execute_result"
    }
   ],
   "source": [
    "(train['SalesUnits'] - train['ReturnUnits'] - train['Demand']).value_counts()\n",
    "#There are instances where sales-return is not equal to the demand. This is probably because the returns are not always made the next\n",
    "#week but on subsequent weeks. In that case, sales - returns might be negative but demand should be a positive number, so adjusted \n",
    "#demand will be zero."
   ]
  },
  {
   "cell_type": "code",
   "execution_count": null,
   "metadata": {},
   "outputs": [],
   "source": []
  },
  {
   "cell_type": "code",
   "execution_count": 64,
   "metadata": {},
   "outputs": [
    {
     "data": {
      "text/html": [
       "<div>\n",
       "<style scoped>\n",
       "    .dataframe tbody tr th:only-of-type {\n",
       "        vertical-align: middle;\n",
       "    }\n",
       "\n",
       "    .dataframe tbody tr th {\n",
       "        vertical-align: top;\n",
       "    }\n",
       "\n",
       "    .dataframe thead th {\n",
       "        text-align: right;\n",
       "    }\n",
       "</style>\n",
       "<table border=\"1\" class=\"dataframe\">\n",
       "  <thead>\n",
       "    <tr style=\"text-align: right;\">\n",
       "      <th></th>\n",
       "      <th>Unnamed: 0</th>\n",
       "      <th>WeekNumber</th>\n",
       "      <th>DepotID</th>\n",
       "      <th>SalesChannelID</th>\n",
       "      <th>RouteID</th>\n",
       "      <th>ClientID</th>\n",
       "      <th>ProductID</th>\n",
       "      <th>SalesUnits</th>\n",
       "      <th>Sales</th>\n",
       "      <th>ReturnUnits</th>\n",
       "      <th>Returns</th>\n",
       "      <th>Demand</th>\n",
       "    </tr>\n",
       "  </thead>\n",
       "  <tbody>\n",
       "    <tr>\n",
       "      <td>44000</td>\n",
       "      <td>44000</td>\n",
       "      <td>3</td>\n",
       "      <td>1680</td>\n",
       "      <td>11</td>\n",
       "      <td>5705</td>\n",
       "      <td>4528790</td>\n",
       "      <td>1700.0</td>\n",
       "      <td>3</td>\n",
       "      <td>42.0</td>\n",
       "      <td>49</td>\n",
       "      <td>686.0</td>\n",
       "      <td>0</td>\n",
       "    </tr>\n",
       "    <tr>\n",
       "      <td>183032</td>\n",
       "      <td>183032</td>\n",
       "      <td>4</td>\n",
       "      <td>1680</td>\n",
       "      <td>11</td>\n",
       "      <td>5705</td>\n",
       "      <td>4528790</td>\n",
       "      <td>1700.0</td>\n",
       "      <td>0</td>\n",
       "      <td>0.0</td>\n",
       "      <td>4</td>\n",
       "      <td>56.0</td>\n",
       "      <td>0</td>\n",
       "    </tr>\n",
       "    <tr>\n",
       "      <td>451967</td>\n",
       "      <td>451967</td>\n",
       "      <td>6</td>\n",
       "      <td>1680</td>\n",
       "      <td>11</td>\n",
       "      <td>5705</td>\n",
       "      <td>4528790</td>\n",
       "      <td>1700.0</td>\n",
       "      <td>4</td>\n",
       "      <td>56.0</td>\n",
       "      <td>1</td>\n",
       "      <td>14.0</td>\n",
       "      <td>3</td>\n",
       "    </tr>\n",
       "    <tr>\n",
       "      <td>726615</td>\n",
       "      <td>726615</td>\n",
       "      <td>8</td>\n",
       "      <td>1680</td>\n",
       "      <td>11</td>\n",
       "      <td>5705</td>\n",
       "      <td>4528790</td>\n",
       "      <td>1700.0</td>\n",
       "      <td>10</td>\n",
       "      <td>140.0</td>\n",
       "      <td>1</td>\n",
       "      <td>14.0</td>\n",
       "      <td>9</td>\n",
       "    </tr>\n",
       "  </tbody>\n",
       "</table>\n",
       "</div>"
      ],
      "text/plain": [
       "        Unnamed: 0  WeekNumber  DepotID  SalesChannelID  RouteID  ClientID  \\\n",
       "44000        44000           3     1680              11     5705   4528790   \n",
       "183032      183032           4     1680              11     5705   4528790   \n",
       "451967      451967           6     1680              11     5705   4528790   \n",
       "726615      726615           8     1680              11     5705   4528790   \n",
       "\n",
       "        ProductID  SalesUnits  Sales  ReturnUnits  Returns  Demand  \n",
       "44000      1700.0           3   42.0           49    686.0       0  \n",
       "183032     1700.0           0    0.0            4     56.0       0  \n",
       "451967     1700.0           4   56.0            1     14.0       3  \n",
       "726615     1700.0          10  140.0            1     14.0       9  "
      ]
     },
     "execution_count": 64,
     "metadata": {},
     "output_type": "execute_result"
    }
   ],
   "source": [
    "train[(train['ReturnUnits'] > 0) & (train['ProductID'] == 1700.0) & (train['ClientID'] == 4528790)]\n",
    "#we see here that demand will be 0 when returns are more than sales."
   ]
  },
  {
   "cell_type": "code",
   "execution_count": 65,
   "metadata": {},
   "outputs": [],
   "source": [
    "#We also see that products might not be sold in all weeks. Here no sales are made in week 5,7 and 9. "
   ]
  },
  {
   "cell_type": "code",
   "execution_count": 66,
   "metadata": {},
   "outputs": [],
   "source": [
    "#Many of the productids in the training data are NAN. We would require to remove those from our preprocessing. \n",
    "#We cannot estimate demand for product which is unknown. "
   ]
  },
  {
   "cell_type": "code",
   "execution_count": 8,
   "metadata": {},
   "outputs": [],
   "source": [
    "train.dropna(subset=['ProductID','ClientID'], inplace=True)"
   ]
  },
  {
   "cell_type": "code",
   "execution_count": 42,
   "metadata": {},
   "outputs": [
    {
     "data": {
      "text/plain": [
       "528498"
      ]
     },
     "execution_count": 42,
     "metadata": {},
     "output_type": "execute_result"
    }
   ],
   "source": [
    "len(train)"
   ]
  },
  {
   "cell_type": "code",
   "execution_count": 17,
   "metadata": {},
   "outputs": [],
   "source": [
    "cleanTest.dropna(subset=['Producto_ID','Cliente_ID'], inplace=True)"
   ]
  },
  {
   "cell_type": "code",
   "execution_count": 84,
   "metadata": {},
   "outputs": [
    {
     "data": {
      "text/plain": [
       "3903    22269\n",
       "3901    22111\n",
       "3904    20319\n",
       "3908    20002\n",
       "3905    19795\n",
       "        ...  \n",
       "3559       72\n",
       "3985       66\n",
       "3560       46\n",
       "3974       36\n",
       "3973        5\n",
       "Name: RouteID, Length: 153, dtype: int64"
      ]
     },
     "execution_count": 84,
     "metadata": {},
     "output_type": "execute_result"
    }
   ],
   "source": []
  },
  {
   "cell_type": "code",
   "execution_count": 9,
   "metadata": {},
   "outputs": [
    {
     "data": {
      "text/plain": [
       "([array([     0.,      0.,   7099.,      0.,      0.,  63448.,      0.,\n",
       "          82708.,      0., 103356.,  48950.,  61039.,  57588.,  32273.,\n",
       "          36643.,  18638.,  10757.,   4381.,   1251.,    367.]),\n",
       "  array([1., 0., 0., 0., 0., 0., 0., 0., 0., 0., 0., 0., 0., 0., 0., 0., 0.,\n",
       "         0., 0., 0.])],\n",
       " array([-0.326978  , -0.16729611, -0.00761421,  0.15206768,  0.31174958,\n",
       "         0.47143147,  0.63111337,  0.79079526,  0.95047716,  1.11015905,\n",
       "         1.26984095,  1.42952284,  1.58920474,  1.74888663,  1.90856853,\n",
       "         2.06825042,  2.22793232,  2.38761421,  2.54729611,  2.706978  ,\n",
       "         2.8666599 ]),\n",
       " <a list of 2 Lists of Patches objects>)"
      ]
     },
     "execution_count": 9,
     "metadata": {},
     "output_type": "execute_result"
    },
    {
     "data": {
      "image/png": "[encoded data removed]",
      "text/plain": [
       "<Figure size 432x288 with 1 Axes>"
      ]
     },
     "metadata": {
      "needs_background": "light"
     },
     "output_type": "display_data"
    }
   ],
   "source": [
    "from scipy.stats import norm,boxcox\n",
    "plt.hist(boxcox(train['Demand'] + 1), bins = 20)"
   ]
  },
  {
   "cell_type": "code",
   "execution_count": 119,
   "metadata": {},
   "outputs": [],
   "source": [
    "#Hence the data is succesfully transformed to normalised data. We need to reverse the transformation when we get the testdata\n",
    "#results\n",
    "boxcoxFactor = -0.3269780047195248"
   ]
  },
  {
   "cell_type": "code",
   "execution_count": 10,
   "metadata": {},
   "outputs": [],
   "source": [
    "train['normDemand'] = boxcox(train['Demand'] + 1)[0]"
   ]
  },
  {
   "cell_type": "code",
   "execution_count": 58,
   "metadata": {},
   "outputs": [],
   "source": [
    "import lightgbm as lgb\n",
    "from sklearn.model_selection import train_test_split\n",
    "from sklearn.metrics import mean_squared_error\n",
    "from sklearn import preprocessing\n",
    "from sklearn.preprocessing import StandardScaler, PolynomialFeatures, Imputer\n",
    "from sklearn.model_selection import cross_val_score, cross_val_predict"
   ]
  },
  {
   "cell_type": "code",
   "execution_count": 35,
   "metadata": {},
   "outputs": [],
   "source": [
    "import gc"
   ]
  },
  {
   "cell_type": "code",
   "execution_count": 44,
   "metadata": {},
   "outputs": [],
   "source": [
    "train.drop([\"Unnamed: 0\",\"SalesChannelID\",\"SalesUnits\",\"Sales\",\"ReturnUnits\",\"Returns\",\"Demand\"], axis=1, inplace=True)"
   ]
  },
  {
   "cell_type": "code",
   "execution_count": 48,
   "metadata": {},
   "outputs": [],
   "source": [
    "X_train = train[train['WeekNumber'] != 9].copy()\n",
    "y_train = X_train['normDemand']\n",
    "X_test = train[train['WeekNumber'] == 9].copy()\n",
    "y_test = X_test['normDemand']\n",
    "X_train.drop([\"normDemand\"],axis=1, inplace=True)\n",
    "X_test.drop([\"normDemand\"],axis=1, inplace=True)"
   ]
  },
  {
   "cell_type": "code",
   "execution_count": 49,
   "metadata": {},
   "outputs": [
    {
     "name": "stderr",
     "output_type": "stream",
     "text": [
      "C:\\Users\\sablo\\Anaconda3\\lib\\site-packages\\lightgbm\\basic.py:1295: UserWarning: categorical_feature in Dataset is overridden.\n",
      "New categorical_feature is ['ClientID', 'DepotID', 'ProductID', 'RouteID', 'WeekNumber']\n",
      "  'New categorical_feature is {}'.format(sorted(list(categorical_feature))))\n"
     ]
    },
    {
     "name": "stdout",
     "output_type": "stream",
     "text": [
      "[1]\ttraining's l2: 0.224673\ttraining's l1: 0.383894\tvalid_1's l2: 0.231383\tvalid_1's l1: 0.390718\n",
      "[2]\ttraining's l2: 0.216241\ttraining's l1: 0.376622\tvalid_1's l2: 0.223264\tvalid_1's l1: 0.383691\n",
      "[3]\ttraining's l2: 0.209048\ttraining's l1: 0.370195\tvalid_1's l2: 0.216465\tvalid_1's l1: 0.377522\n",
      "[4]\ttraining's l2: 0.202831\ttraining's l1: 0.364824\tvalid_1's l2: 0.210634\tvalid_1's l1: 0.372437\n",
      "[5]\ttraining's l2: 0.197133\ttraining's l1: 0.359624\tvalid_1's l2: 0.205259\tvalid_1's l1: 0.367465\n",
      "[6]\ttraining's l2: 0.192208\ttraining's l1: 0.355082\tvalid_1's l2: 0.200648\tvalid_1's l1: 0.363224\n",
      "[7]\ttraining's l2: 0.188168\ttraining's l1: 0.35126\tvalid_1's l2: 0.197008\tvalid_1's l1: 0.359715\n",
      "[8]\ttraining's l2: 0.184024\ttraining's l1: 0.347192\tvalid_1's l2: 0.193225\tvalid_1's l1: 0.355951\n",
      "[9]\ttraining's l2: 0.180591\ttraining's l1: 0.343814\tvalid_1's l2: 0.190139\tvalid_1's l1: 0.352886\n",
      "[10]\ttraining's l2: 0.177476\ttraining's l1: 0.340687\tvalid_1's l2: 0.187138\tvalid_1's l1: 0.349844\n",
      "[11]\ttraining's l2: 0.174472\ttraining's l1: 0.337503\tvalid_1's l2: 0.184408\tvalid_1's l1: 0.346899\n",
      "[12]\ttraining's l2: 0.171923\ttraining's l1: 0.33484\tvalid_1's l2: 0.182167\tvalid_1's l1: 0.344516\n",
      "[13]\ttraining's l2: 0.169562\ttraining's l1: 0.33229\tvalid_1's l2: 0.180023\tvalid_1's l1: 0.342215\n",
      "[14]\ttraining's l2: 0.167123\ttraining's l1: 0.329638\tvalid_1's l2: 0.177944\tvalid_1's l1: 0.339953\n",
      "[15]\ttraining's l2: 0.164939\ttraining's l1: 0.327242\tvalid_1's l2: 0.176245\tvalid_1's l1: 0.338049\n",
      "[16]\ttraining's l2: 0.163067\ttraining's l1: 0.325066\tvalid_1's l2: 0.174593\tvalid_1's l1: 0.336138\n",
      "[17]\ttraining's l2: 0.161286\ttraining's l1: 0.323029\tvalid_1's l2: 0.17308\tvalid_1's l1: 0.334413\n",
      "[18]\ttraining's l2: 0.159429\ttraining's l1: 0.320888\tvalid_1's l2: 0.171507\tvalid_1's l1: 0.332608\n",
      "[19]\ttraining's l2: 0.157709\ttraining's l1: 0.318838\tvalid_1's l2: 0.170163\tvalid_1's l1: 0.330987\n",
      "[20]\ttraining's l2: 0.156079\ttraining's l1: 0.316859\tvalid_1's l2: 0.16876\tvalid_1's l1: 0.329291\n",
      "[21]\ttraining's l2: 0.154712\ttraining's l1: 0.315184\tvalid_1's l2: 0.167582\tvalid_1's l1: 0.327852\n",
      "[22]\ttraining's l2: 0.15332\ttraining's l1: 0.313482\tvalid_1's l2: 0.166444\tvalid_1's l1: 0.32645\n",
      "[23]\ttraining's l2: 0.152047\ttraining's l1: 0.311942\tvalid_1's l2: 0.16538\tvalid_1's l1: 0.325152\n",
      "[24]\ttraining's l2: 0.150899\ttraining's l1: 0.310529\tvalid_1's l2: 0.164449\tvalid_1's l1: 0.324032\n",
      "[25]\ttraining's l2: 0.14977\ttraining's l1: 0.309107\tvalid_1's l2: 0.163508\tvalid_1's l1: 0.32287\n",
      "[26]\ttraining's l2: 0.148659\ttraining's l1: 0.30779\tvalid_1's l2: 0.162715\tvalid_1's l1: 0.321902\n",
      "[27]\ttraining's l2: 0.147525\ttraining's l1: 0.306242\tvalid_1's l2: 0.161977\tvalid_1's l1: 0.320843\n",
      "[28]\ttraining's l2: 0.146419\ttraining's l1: 0.304792\tvalid_1's l2: 0.16114\tvalid_1's l1: 0.319727\n",
      "[29]\ttraining's l2: 0.145562\ttraining's l1: 0.303685\tvalid_1's l2: 0.160382\tvalid_1's l1: 0.318777\n",
      "[30]\ttraining's l2: 0.144531\ttraining's l1: 0.302293\tvalid_1's l2: 0.159503\tvalid_1's l1: 0.317599\n",
      "[31]\ttraining's l2: 0.143701\ttraining's l1: 0.301197\tvalid_1's l2: 0.158946\tvalid_1's l1: 0.316833\n",
      "[32]\ttraining's l2: 0.142839\ttraining's l1: 0.300172\tvalid_1's l2: 0.158217\tvalid_1's l1: 0.315965\n",
      "[33]\ttraining's l2: 0.142142\ttraining's l1: 0.299224\tvalid_1's l2: 0.15771\tvalid_1's l1: 0.315282\n",
      "[34]\ttraining's l2: 0.141486\ttraining's l1: 0.2983\tvalid_1's l2: 0.157219\tvalid_1's l1: 0.314604\n",
      "[35]\ttraining's l2: 0.140836\ttraining's l1: 0.297412\tvalid_1's l2: 0.156701\tvalid_1's l1: 0.313918\n",
      "[36]\ttraining's l2: 0.140083\ttraining's l1: 0.296362\tvalid_1's l2: 0.156071\tvalid_1's l1: 0.313058\n",
      "[37]\ttraining's l2: 0.139427\ttraining's l1: 0.295432\tvalid_1's l2: 0.15551\tvalid_1's l1: 0.312271\n",
      "[38]\ttraining's l2: 0.138674\ttraining's l1: 0.294504\tvalid_1's l2: 0.154892\tvalid_1's l1: 0.311524\n",
      "[39]\ttraining's l2: 0.137981\ttraining's l1: 0.293549\tvalid_1's l2: 0.15432\tvalid_1's l1: 0.310733\n",
      "[40]\ttraining's l2: 0.137437\ttraining's l1: 0.292758\tvalid_1's l2: 0.153964\tvalid_1's l1: 0.310232\n",
      "[41]\ttraining's l2: 0.136903\ttraining's l1: 0.291991\tvalid_1's l2: 0.153561\tvalid_1's l1: 0.309657\n",
      "[42]\ttraining's l2: 0.136301\ttraining's l1: 0.291119\tvalid_1's l2: 0.15309\tvalid_1's l1: 0.308974\n",
      "[43]\ttraining's l2: 0.135764\ttraining's l1: 0.290363\tvalid_1's l2: 0.152685\tvalid_1's l1: 0.308429\n",
      "[44]\ttraining's l2: 0.13528\ttraining's l1: 0.28965\tvalid_1's l2: 0.152317\tvalid_1's l1: 0.307917\n",
      "[45]\ttraining's l2: 0.134851\ttraining's l1: 0.289021\tvalid_1's l2: 0.15199\tvalid_1's l1: 0.307438\n",
      "[46]\ttraining's l2: 0.134427\ttraining's l1: 0.288391\tvalid_1's l2: 0.151674\tvalid_1's l1: 0.306985\n",
      "[47]\ttraining's l2: 0.133961\ttraining's l1: 0.287706\tvalid_1's l2: 0.151304\tvalid_1's l1: 0.306429\n",
      "[48]\ttraining's l2: 0.13345\ttraining's l1: 0.286941\tvalid_1's l2: 0.150904\tvalid_1's l1: 0.305835\n",
      "[49]\ttraining's l2: 0.132983\ttraining's l1: 0.286296\tvalid_1's l2: 0.150542\tvalid_1's l1: 0.30534\n",
      "[50]\ttraining's l2: 0.13238\ttraining's l1: 0.285454\tvalid_1's l2: 0.150066\tvalid_1's l1: 0.304665\n",
      "[51]\ttraining's l2: 0.131697\ttraining's l1: 0.284653\tvalid_1's l2: 0.149518\tvalid_1's l1: 0.304027\n",
      "[52]\ttraining's l2: 0.131299\ttraining's l1: 0.284043\tvalid_1's l2: 0.149183\tvalid_1's l1: 0.30353\n",
      "[53]\ttraining's l2: 0.130901\ttraining's l1: 0.28344\tvalid_1's l2: 0.148867\tvalid_1's l1: 0.303057\n",
      "[54]\ttraining's l2: 0.130347\ttraining's l1: 0.282635\tvalid_1's l2: 0.148513\tvalid_1's l1: 0.302507\n",
      "[55]\ttraining's l2: 0.129983\ttraining's l1: 0.282088\tvalid_1's l2: 0.148215\tvalid_1's l1: 0.302058\n",
      "[56]\ttraining's l2: 0.129587\ttraining's l1: 0.281505\tvalid_1's l2: 0.147912\tvalid_1's l1: 0.301602\n",
      "[57]\ttraining's l2: 0.129254\ttraining's l1: 0.280987\tvalid_1's l2: 0.14767\tvalid_1's l1: 0.301247\n",
      "[58]\ttraining's l2: 0.128735\ttraining's l1: 0.280306\tvalid_1's l2: 0.147291\tvalid_1's l1: 0.300743\n",
      "[59]\ttraining's l2: 0.128416\ttraining's l1: 0.279814\tvalid_1's l2: 0.147051\tvalid_1's l1: 0.300391\n",
      "[60]\ttraining's l2: 0.12809\ttraining's l1: 0.279313\tvalid_1's l2: 0.146804\tvalid_1's l1: 0.300031\n",
      "[61]\ttraining's l2: 0.127788\ttraining's l1: 0.278842\tvalid_1's l2: 0.146576\tvalid_1's l1: 0.299687\n",
      "[62]\ttraining's l2: 0.127438\ttraining's l1: 0.278321\tvalid_1's l2: 0.146307\tvalid_1's l1: 0.299297\n",
      "[63]\ttraining's l2: 0.127105\ttraining's l1: 0.277799\tvalid_1's l2: 0.146047\tvalid_1's l1: 0.298891\n",
      "[64]\ttraining's l2: 0.126827\ttraining's l1: 0.277369\tvalid_1's l2: 0.145813\tvalid_1's l1: 0.298536\n",
      "[65]\ttraining's l2: 0.126517\ttraining's l1: 0.276878\tvalid_1's l2: 0.145571\tvalid_1's l1: 0.298145\n",
      "[66]\ttraining's l2: 0.126199\ttraining's l1: 0.276403\tvalid_1's l2: 0.145323\tvalid_1's l1: 0.297775\n",
      "[67]\ttraining's l2: 0.125744\ttraining's l1: 0.275797\tvalid_1's l2: 0.144961\tvalid_1's l1: 0.29729\n",
      "[68]\ttraining's l2: 0.125304\ttraining's l1: 0.275139\tvalid_1's l2: 0.144641\tvalid_1's l1: 0.296778\n",
      "[69]\ttraining's l2: 0.12489\ttraining's l1: 0.274532\tvalid_1's l2: 0.144332\tvalid_1's l1: 0.296305\n",
      "[70]\ttraining's l2: 0.124559\ttraining's l1: 0.274065\tvalid_1's l2: 0.144075\tvalid_1's l1: 0.295935\n",
      "[71]\ttraining's l2: 0.124223\ttraining's l1: 0.27358\tvalid_1's l2: 0.143821\tvalid_1's l1: 0.29556\n",
      "[72]\ttraining's l2: 0.123931\ttraining's l1: 0.273149\tvalid_1's l2: 0.143597\tvalid_1's l1: 0.295218\n",
      "[73]\ttraining's l2: 0.123472\ttraining's l1: 0.272561\tvalid_1's l2: 0.143239\tvalid_1's l1: 0.294777\n",
      "[74]\ttraining's l2: 0.123225\ttraining's l1: 0.27217\tvalid_1's l2: 0.143054\tvalid_1's l1: 0.294482\n",
      "[75]\ttraining's l2: 0.122987\ttraining's l1: 0.271794\tvalid_1's l2: 0.142868\tvalid_1's l1: 0.294174\n",
      "[76]\ttraining's l2: 0.122708\ttraining's l1: 0.271384\tvalid_1's l2: 0.142665\tvalid_1's l1: 0.293878\n",
      "[77]\ttraining's l2: 0.122478\ttraining's l1: 0.271017\tvalid_1's l2: 0.142494\tvalid_1's l1: 0.293626\n",
      "[78]\ttraining's l2: 0.122237\ttraining's l1: 0.270634\tvalid_1's l2: 0.142303\tvalid_1's l1: 0.293333\n",
      "[79]\ttraining's l2: 0.121944\ttraining's l1: 0.270224\tvalid_1's l2: 0.142081\tvalid_1's l1: 0.293032\n",
      "[80]\ttraining's l2: 0.121659\ttraining's l1: 0.269817\tvalid_1's l2: 0.141888\tvalid_1's l1: 0.292752\n",
      "[81]\ttraining's l2: 0.121463\ttraining's l1: 0.269499\tvalid_1's l2: 0.141744\tvalid_1's l1: 0.292507\n",
      "[82]\ttraining's l2: 0.121259\ttraining's l1: 0.269177\tvalid_1's l2: 0.141582\tvalid_1's l1: 0.292252\n",
      "[83]\ttraining's l2: 0.12099\ttraining's l1: 0.268736\tvalid_1's l2: 0.141399\tvalid_1's l1: 0.291918\n",
      "[84]\ttraining's l2: 0.120707\ttraining's l1: 0.268268\tvalid_1's l2: 0.14117\tvalid_1's l1: 0.291541\n"
     ]
    },
    {
     "name": "stdout",
     "output_type": "stream",
     "text": [
      "[85]\ttraining's l2: 0.120514\ttraining's l1: 0.267954\tvalid_1's l2: 0.141037\tvalid_1's l1: 0.291296\n",
      "[86]\ttraining's l2: 0.120334\ttraining's l1: 0.267663\tvalid_1's l2: 0.140888\tvalid_1's l1: 0.291059\n",
      "[87]\ttraining's l2: 0.120152\ttraining's l1: 0.267365\tvalid_1's l2: 0.140763\tvalid_1's l1: 0.29084\n",
      "[88]\ttraining's l2: 0.119987\ttraining's l1: 0.267093\tvalid_1's l2: 0.140641\tvalid_1's l1: 0.29062\n",
      "[89]\ttraining's l2: 0.119816\ttraining's l1: 0.266817\tvalid_1's l2: 0.1405\tvalid_1's l1: 0.29042\n",
      "[90]\ttraining's l2: 0.119643\ttraining's l1: 0.266531\tvalid_1's l2: 0.140367\tvalid_1's l1: 0.290216\n",
      "[91]\ttraining's l2: 0.119358\ttraining's l1: 0.266146\tvalid_1's l2: 0.140156\tvalid_1's l1: 0.289911\n",
      "[92]\ttraining's l2: 0.119091\ttraining's l1: 0.265765\tvalid_1's l2: 0.139957\tvalid_1's l1: 0.289643\n",
      "[93]\ttraining's l2: 0.118943\ttraining's l1: 0.265514\tvalid_1's l2: 0.139839\tvalid_1's l1: 0.289453\n",
      "[94]\ttraining's l2: 0.118785\ttraining's l1: 0.265249\tvalid_1's l2: 0.139715\tvalid_1's l1: 0.289256\n",
      "[95]\ttraining's l2: 0.118638\ttraining's l1: 0.265014\tvalid_1's l2: 0.139613\tvalid_1's l1: 0.289108\n",
      "[96]\ttraining's l2: 0.118428\ttraining's l1: 0.264702\tvalid_1's l2: 0.139473\tvalid_1's l1: 0.288891\n",
      "[97]\ttraining's l2: 0.118286\ttraining's l1: 0.264457\tvalid_1's l2: 0.139369\tvalid_1's l1: 0.288717\n",
      "[98]\ttraining's l2: 0.118111\ttraining's l1: 0.264198\tvalid_1's l2: 0.139232\tvalid_1's l1: 0.288532\n",
      "[99]\ttraining's l2: 0.117859\ttraining's l1: 0.263845\tvalid_1's l2: 0.139067\tvalid_1's l1: 0.288275\n",
      "[100]\ttraining's l2: 0.117623\ttraining's l1: 0.26349\tvalid_1's l2: 0.138872\tvalid_1's l1: 0.287977\n"
     ]
    },
    {
     "data": {
      "text/plain": [
       "LGBMRegressor(boosting_type='gbdt', class_weight=None, colsample_bytree=1.0,\n",
       "              importance_type='split', learning_rate=0.1, max_depth=-1,\n",
       "              metric=['l2', 'l1'], min_child_samples=20, min_child_weight=0.001,\n",
       "              min_split_gain=0.0, n_estimators=100, n_jobs=-1, num_leaves=31,\n",
       "              objective='regression', random_state=None, reg_alpha=0.0,\n",
       "              reg_lambda=0.0, silent=True, subsample=1.0,\n",
       "              subsample_for_bin=200000, subsample_freq=0)"
      ]
     },
     "execution_count": 49,
     "metadata": {},
     "output_type": "execute_result"
    }
   ],
   "source": [
    "hyper_params = {\n",
    "    'boosting_type': 'gbdt',\n",
    "    'objective': 'regression',\n",
    "    'metric': ['l2', 'l1'],\n",
    "    'n_estimators' : 100\n",
    "}\n",
    "gbm = lgb.LGBMRegressor(**hyper_params)\n",
    "gbm.fit(X_train, y_train,\n",
    "        eval_set=[(X_train, y_train),(X_test, y_test)],\n",
    "        eval_metric=['l1','l2'],\n",
    "        categorical_feature = ['WeekNumber','DepotID','RouteID','ClientID','ProductID'],\n",
    "        verbose = True)\n"
   ]
  },
  {
   "cell_type": "code",
   "execution_count": 50,
   "metadata": {},
   "outputs": [
    {
     "data": {
      "text/plain": [
       "array([   0,   64,   62, 2656,  218])"
      ]
     },
     "execution_count": 50,
     "metadata": {},
     "output_type": "execute_result"
    }
   ],
   "source": [
    "gbm.feature_importances_"
   ]
  },
  {
   "cell_type": "code",
   "execution_count": 51,
   "metadata": {},
   "outputs": [
    {
     "data": {
      "text/plain": [
       "defaultdict(collections.OrderedDict,\n",
       "            {'training': OrderedDict([('l2', 0.1176226448640563),\n",
       "                          ('l1', 0.2634903452999561)]),\n",
       "             'valid_1': OrderedDict([('l2', 0.13887230425420422),\n",
       "                          ('l1', 0.28797662221036585)])})"
      ]
     },
     "execution_count": 51,
     "metadata": {},
     "output_type": "execute_result"
    }
   ],
   "source": [
    "gbm.best_score_"
   ]
  },
  {
   "cell_type": "code",
   "execution_count": 52,
   "metadata": {},
   "outputs": [],
   "source": [
    "pred = gbm.predict(X_test)"
   ]
  },
  {
   "cell_type": "code",
   "execution_count": 55,
   "metadata": {},
   "outputs": [
    {
     "data": {
      "text/plain": [
       "defaultdict(collections.OrderedDict,\n",
       "            {'training': OrderedDict([('l2', 0.1176226448640563),\n",
       "                          ('l1', 0.2634903452999561)]),\n",
       "             'valid_1': OrderedDict([('l2', 0.13887230425420422),\n",
       "                          ('l1', 0.28797662221036585)])})"
      ]
     },
     "execution_count": 55,
     "metadata": {},
     "output_type": "execute_result"
    }
   ],
   "source": [
    "gbm.best_score_"
   ]
  },
  {
   "cell_type": "code",
   "execution_count": 59,
   "metadata": {},
   "outputs": [
    {
     "name": "stdout",
     "output_type": "stream",
     "text": [
      "The rmse of prediction is: 0.37266\n"
     ]
    }
   ],
   "source": [
    "# Basic RMSE\n",
    "print('The rmse of prediction is:', round(mean_squared_error(pred, y_test) ** 0.5, 5))"
   ]
  },
  {
   "cell_type": "code",
   "execution_count": 60,
   "metadata": {},
   "outputs": [
    {
     "data": {
      "text/plain": [
       "array([1.09677111, 1.17034535, 1.17649727, ..., 1.36064771, 1.45623557,\n",
       "       1.36036661])"
      ]
     },
     "execution_count": 60,
     "metadata": {},
     "output_type": "execute_result"
    }
   ],
   "source": [
    "pred"
   ]
  },
  {
   "cell_type": "code",
   "execution_count": 70,
   "metadata": {},
   "outputs": [
    {
     "data": {
      "text/plain": [
       "<matplotlib.axes._subplots.AxesSubplot at 0x19ba0743148>"
      ]
     },
     "execution_count": 70,
     "metadata": {},
     "output_type": "execute_result"
    },
    {
     "data": {
      "image/png": "[encoded data removed]",
      "text/plain": [
       "<Figure size 1440x864 with 4 Axes>"
      ]
     },
     "metadata": {
      "needs_background": "light"
     },
     "output_type": "display_data"
    }
   ],
   "source": [
    "fig, axes = plt.subplots(nrows=2,ncols=2,figsize = (20,12))\n",
    "sns.distplot(y_test, ax=axes[0][0])\n",
    "sns.distplot(pred,ax=axes[0][1])\n",
    "sns.distplot(train['normDemand'], ax=axes[1][0])"
   ]
  },
  {
   "cell_type": "code",
   "execution_count": 71,
   "metadata": {},
   "outputs": [],
   "source": [
    "benchmark = 0.37266"
   ]
  },
  {
   "cell_type": "code",
   "execution_count": 72,
   "metadata": {},
   "outputs": [],
   "source": []
  },
  {
   "cell_type": "code",
   "execution_count": 77,
   "metadata": {
    "scrolled": true
   },
   "outputs": [
    {
     "data": {
      "text/html": [
       "<div>\n",
       "<style scoped>\n",
       "    .dataframe tbody tr th:only-of-type {\n",
       "        vertical-align: middle;\n",
       "    }\n",
       "\n",
       "    .dataframe tbody tr th {\n",
       "        vertical-align: top;\n",
       "    }\n",
       "\n",
       "    .dataframe thead th {\n",
       "        text-align: right;\n",
       "    }\n",
       "</style>\n",
       "<table border=\"1\" class=\"dataframe\">\n",
       "  <thead>\n",
       "    <tr style=\"text-align: right;\">\n",
       "      <th></th>\n",
       "    </tr>\n",
       "  </thead>\n",
       "  <tbody>\n",
       "  </tbody>\n",
       "</table>\n",
       "</div>"
      ],
      "text/plain": [
       "Empty DataFrame\n",
       "Columns: []\n",
       "Index: []"
      ]
     },
     "execution_count": 77,
     "metadata": {},
     "output_type": "execute_result"
    }
   ],
   "source": []
  },
  {
   "cell_type": "code",
   "execution_count": 78,
   "metadata": {},
   "outputs": [
    {
     "name": "stderr",
     "output_type": "stream",
     "text": [
      "C:\\Users\\sablo\\Anaconda3\\lib\\site-packages\\lightgbm\\basic.py:1295: UserWarning: categorical_feature in Dataset is overridden.\n",
      "New categorical_feature is ['ClientID', 'DepotID', 'ProductID', 'RouteID']\n",
      "  'New categorical_feature is {}'.format(sorted(list(categorical_feature))))\n"
     ]
    },
    {
     "name": "stdout",
     "output_type": "stream",
     "text": [
      "[1]\ttraining's l2: 0.224673\ttraining's l1: 0.383894\tvalid_1's l2: 0.231383\tvalid_1's l1: 0.390718\n",
      "[2]\ttraining's l2: 0.216241\ttraining's l1: 0.376622\tvalid_1's l2: 0.223264\tvalid_1's l1: 0.383691\n",
      "[3]\ttraining's l2: 0.209048\ttraining's l1: 0.370195\tvalid_1's l2: 0.216465\tvalid_1's l1: 0.377522\n",
      "[4]\ttraining's l2: 0.202831\ttraining's l1: 0.364824\tvalid_1's l2: 0.210634\tvalid_1's l1: 0.372437\n",
      "[5]\ttraining's l2: 0.197133\ttraining's l1: 0.359624\tvalid_1's l2: 0.205259\tvalid_1's l1: 0.367465\n",
      "[6]\ttraining's l2: 0.192208\ttraining's l1: 0.355082\tvalid_1's l2: 0.200648\tvalid_1's l1: 0.363224\n",
      "[7]\ttraining's l2: 0.188168\ttraining's l1: 0.35126\tvalid_1's l2: 0.197008\tvalid_1's l1: 0.359715\n",
      "[8]\ttraining's l2: 0.184024\ttraining's l1: 0.347192\tvalid_1's l2: 0.193225\tvalid_1's l1: 0.355951\n",
      "[9]\ttraining's l2: 0.180591\ttraining's l1: 0.343814\tvalid_1's l2: 0.190139\tvalid_1's l1: 0.352886\n",
      "[10]\ttraining's l2: 0.177476\ttraining's l1: 0.340687\tvalid_1's l2: 0.187138\tvalid_1's l1: 0.349844\n",
      "[11]\ttraining's l2: 0.174472\ttraining's l1: 0.337503\tvalid_1's l2: 0.184408\tvalid_1's l1: 0.346899\n",
      "[12]\ttraining's l2: 0.171923\ttraining's l1: 0.33484\tvalid_1's l2: 0.182167\tvalid_1's l1: 0.344516\n",
      "[13]\ttraining's l2: 0.169562\ttraining's l1: 0.33229\tvalid_1's l2: 0.180023\tvalid_1's l1: 0.342215\n",
      "[14]\ttraining's l2: 0.167123\ttraining's l1: 0.329638\tvalid_1's l2: 0.177944\tvalid_1's l1: 0.339953\n",
      "[15]\ttraining's l2: 0.164939\ttraining's l1: 0.327242\tvalid_1's l2: 0.176245\tvalid_1's l1: 0.338049\n",
      "[16]\ttraining's l2: 0.163067\ttraining's l1: 0.325066\tvalid_1's l2: 0.174593\tvalid_1's l1: 0.336138\n",
      "[17]\ttraining's l2: 0.161286\ttraining's l1: 0.323029\tvalid_1's l2: 0.17308\tvalid_1's l1: 0.334413\n",
      "[18]\ttraining's l2: 0.159429\ttraining's l1: 0.320888\tvalid_1's l2: 0.171507\tvalid_1's l1: 0.332608\n",
      "[19]\ttraining's l2: 0.157709\ttraining's l1: 0.318838\tvalid_1's l2: 0.170163\tvalid_1's l1: 0.330987\n",
      "[20]\ttraining's l2: 0.156079\ttraining's l1: 0.316859\tvalid_1's l2: 0.16876\tvalid_1's l1: 0.329291\n",
      "[21]\ttraining's l2: 0.154712\ttraining's l1: 0.315184\tvalid_1's l2: 0.167582\tvalid_1's l1: 0.327852\n",
      "[22]\ttraining's l2: 0.15332\ttraining's l1: 0.313482\tvalid_1's l2: 0.166444\tvalid_1's l1: 0.32645\n",
      "[23]\ttraining's l2: 0.152047\ttraining's l1: 0.311942\tvalid_1's l2: 0.16538\tvalid_1's l1: 0.325152\n",
      "[24]\ttraining's l2: 0.150899\ttraining's l1: 0.310529\tvalid_1's l2: 0.164449\tvalid_1's l1: 0.324032\n",
      "[25]\ttraining's l2: 0.14977\ttraining's l1: 0.309107\tvalid_1's l2: 0.163508\tvalid_1's l1: 0.32287\n",
      "[26]\ttraining's l2: 0.148659\ttraining's l1: 0.30779\tvalid_1's l2: 0.162715\tvalid_1's l1: 0.321902\n",
      "[27]\ttraining's l2: 0.147525\ttraining's l1: 0.306242\tvalid_1's l2: 0.161977\tvalid_1's l1: 0.320843\n",
      "[28]\ttraining's l2: 0.146419\ttraining's l1: 0.304792\tvalid_1's l2: 0.16114\tvalid_1's l1: 0.319727\n",
      "[29]\ttraining's l2: 0.145562\ttraining's l1: 0.303685\tvalid_1's l2: 0.160382\tvalid_1's l1: 0.318777\n",
      "[30]\ttraining's l2: 0.144531\ttraining's l1: 0.302293\tvalid_1's l2: 0.159503\tvalid_1's l1: 0.317599\n",
      "[31]\ttraining's l2: 0.143701\ttraining's l1: 0.301197\tvalid_1's l2: 0.158946\tvalid_1's l1: 0.316833\n",
      "[32]\ttraining's l2: 0.142839\ttraining's l1: 0.300172\tvalid_1's l2: 0.158217\tvalid_1's l1: 0.315965\n",
      "[33]\ttraining's l2: 0.142142\ttraining's l1: 0.299224\tvalid_1's l2: 0.15771\tvalid_1's l1: 0.315282\n",
      "[34]\ttraining's l2: 0.141486\ttraining's l1: 0.2983\tvalid_1's l2: 0.157219\tvalid_1's l1: 0.314604\n",
      "[35]\ttraining's l2: 0.140836\ttraining's l1: 0.297412\tvalid_1's l2: 0.156701\tvalid_1's l1: 0.313918\n",
      "[36]\ttraining's l2: 0.140083\ttraining's l1: 0.296362\tvalid_1's l2: 0.156071\tvalid_1's l1: 0.313058\n",
      "[37]\ttraining's l2: 0.139427\ttraining's l1: 0.295432\tvalid_1's l2: 0.15551\tvalid_1's l1: 0.312271\n",
      "[38]\ttraining's l2: 0.138674\ttraining's l1: 0.294504\tvalid_1's l2: 0.154892\tvalid_1's l1: 0.311524\n",
      "[39]\ttraining's l2: 0.137981\ttraining's l1: 0.293549\tvalid_1's l2: 0.15432\tvalid_1's l1: 0.310733\n",
      "[40]\ttraining's l2: 0.137437\ttraining's l1: 0.292758\tvalid_1's l2: 0.153964\tvalid_1's l1: 0.310232\n",
      "[41]\ttraining's l2: 0.136903\ttraining's l1: 0.291991\tvalid_1's l2: 0.153561\tvalid_1's l1: 0.309657\n",
      "[42]\ttraining's l2: 0.136301\ttraining's l1: 0.291119\tvalid_1's l2: 0.15309\tvalid_1's l1: 0.308974\n",
      "[43]\ttraining's l2: 0.135764\ttraining's l1: 0.290363\tvalid_1's l2: 0.152685\tvalid_1's l1: 0.308429\n",
      "[44]\ttraining's l2: 0.13528\ttraining's l1: 0.28965\tvalid_1's l2: 0.152317\tvalid_1's l1: 0.307917\n",
      "[45]\ttraining's l2: 0.134851\ttraining's l1: 0.289021\tvalid_1's l2: 0.15199\tvalid_1's l1: 0.307438\n",
      "[46]\ttraining's l2: 0.134427\ttraining's l1: 0.288391\tvalid_1's l2: 0.151674\tvalid_1's l1: 0.306985\n",
      "[47]\ttraining's l2: 0.133961\ttraining's l1: 0.287706\tvalid_1's l2: 0.151304\tvalid_1's l1: 0.306429\n",
      "[48]\ttraining's l2: 0.13345\ttraining's l1: 0.286941\tvalid_1's l2: 0.150904\tvalid_1's l1: 0.305835\n",
      "[49]\ttraining's l2: 0.132983\ttraining's l1: 0.286296\tvalid_1's l2: 0.150542\tvalid_1's l1: 0.30534\n",
      "[50]\ttraining's l2: 0.13238\ttraining's l1: 0.285454\tvalid_1's l2: 0.150066\tvalid_1's l1: 0.304665\n",
      "[51]\ttraining's l2: 0.131697\ttraining's l1: 0.284653\tvalid_1's l2: 0.149518\tvalid_1's l1: 0.304027\n",
      "[52]\ttraining's l2: 0.131299\ttraining's l1: 0.284043\tvalid_1's l2: 0.149183\tvalid_1's l1: 0.30353\n",
      "[53]\ttraining's l2: 0.130901\ttraining's l1: 0.28344\tvalid_1's l2: 0.148867\tvalid_1's l1: 0.303057\n",
      "[54]\ttraining's l2: 0.130347\ttraining's l1: 0.282635\tvalid_1's l2: 0.148513\tvalid_1's l1: 0.302507\n",
      "[55]\ttraining's l2: 0.129983\ttraining's l1: 0.282088\tvalid_1's l2: 0.148215\tvalid_1's l1: 0.302058\n",
      "[56]\ttraining's l2: 0.129587\ttraining's l1: 0.281505\tvalid_1's l2: 0.147912\tvalid_1's l1: 0.301602\n",
      "[57]\ttraining's l2: 0.129254\ttraining's l1: 0.280987\tvalid_1's l2: 0.14767\tvalid_1's l1: 0.301247\n",
      "[58]\ttraining's l2: 0.128735\ttraining's l1: 0.280306\tvalid_1's l2: 0.147291\tvalid_1's l1: 0.300743\n",
      "[59]\ttraining's l2: 0.128416\ttraining's l1: 0.279814\tvalid_1's l2: 0.147051\tvalid_1's l1: 0.300391\n",
      "[60]\ttraining's l2: 0.12809\ttraining's l1: 0.279313\tvalid_1's l2: 0.146804\tvalid_1's l1: 0.300031\n",
      "[61]\ttraining's l2: 0.127788\ttraining's l1: 0.278842\tvalid_1's l2: 0.146576\tvalid_1's l1: 0.299687\n",
      "[62]\ttraining's l2: 0.127438\ttraining's l1: 0.278321\tvalid_1's l2: 0.146307\tvalid_1's l1: 0.299297\n",
      "[63]\ttraining's l2: 0.127105\ttraining's l1: 0.277799\tvalid_1's l2: 0.146047\tvalid_1's l1: 0.298891\n",
      "[64]\ttraining's l2: 0.126827\ttraining's l1: 0.277369\tvalid_1's l2: 0.145813\tvalid_1's l1: 0.298536\n",
      "[65]\ttraining's l2: 0.126517\ttraining's l1: 0.276878\tvalid_1's l2: 0.145571\tvalid_1's l1: 0.298145\n",
      "[66]\ttraining's l2: 0.126199\ttraining's l1: 0.276403\tvalid_1's l2: 0.145323\tvalid_1's l1: 0.297775\n",
      "[67]\ttraining's l2: 0.125744\ttraining's l1: 0.275797\tvalid_1's l2: 0.144961\tvalid_1's l1: 0.29729\n",
      "[68]\ttraining's l2: 0.125304\ttraining's l1: 0.275139\tvalid_1's l2: 0.144641\tvalid_1's l1: 0.296778\n",
      "[69]\ttraining's l2: 0.12489\ttraining's l1: 0.274532\tvalid_1's l2: 0.144332\tvalid_1's l1: 0.296305\n",
      "[70]\ttraining's l2: 0.124559\ttraining's l1: 0.274065\tvalid_1's l2: 0.144075\tvalid_1's l1: 0.295935\n",
      "[71]\ttraining's l2: 0.124223\ttraining's l1: 0.27358\tvalid_1's l2: 0.143821\tvalid_1's l1: 0.29556\n",
      "[72]\ttraining's l2: 0.123931\ttraining's l1: 0.273149\tvalid_1's l2: 0.143597\tvalid_1's l1: 0.295218\n",
      "[73]\ttraining's l2: 0.123472\ttraining's l1: 0.272561\tvalid_1's l2: 0.143239\tvalid_1's l1: 0.294777\n",
      "[74]\ttraining's l2: 0.123225\ttraining's l1: 0.27217\tvalid_1's l2: 0.143054\tvalid_1's l1: 0.294482\n",
      "[75]\ttraining's l2: 0.122987\ttraining's l1: 0.271794\tvalid_1's l2: 0.142868\tvalid_1's l1: 0.294174\n",
      "[76]\ttraining's l2: 0.122708\ttraining's l1: 0.271384\tvalid_1's l2: 0.142665\tvalid_1's l1: 0.293878\n",
      "[77]\ttraining's l2: 0.122478\ttraining's l1: 0.271017\tvalid_1's l2: 0.142494\tvalid_1's l1: 0.293626\n",
      "[78]\ttraining's l2: 0.122237\ttraining's l1: 0.270634\tvalid_1's l2: 0.142303\tvalid_1's l1: 0.293333\n",
      "[79]\ttraining's l2: 0.121944\ttraining's l1: 0.270224\tvalid_1's l2: 0.142081\tvalid_1's l1: 0.293032\n",
      "[80]\ttraining's l2: 0.121659\ttraining's l1: 0.269817\tvalid_1's l2: 0.141888\tvalid_1's l1: 0.292752\n",
      "[81]\ttraining's l2: 0.121463\ttraining's l1: 0.269499\tvalid_1's l2: 0.141744\tvalid_1's l1: 0.292507\n",
      "[82]\ttraining's l2: 0.121259\ttraining's l1: 0.269177\tvalid_1's l2: 0.141582\tvalid_1's l1: 0.292252\n",
      "[83]\ttraining's l2: 0.12099\ttraining's l1: 0.268736\tvalid_1's l2: 0.141399\tvalid_1's l1: 0.291918\n",
      "[84]\ttraining's l2: 0.120707\ttraining's l1: 0.268268\tvalid_1's l2: 0.14117\tvalid_1's l1: 0.291541\n"
     ]
    },
    {
     "name": "stdout",
     "output_type": "stream",
     "text": [
      "[85]\ttraining's l2: 0.120514\ttraining's l1: 0.267954\tvalid_1's l2: 0.141037\tvalid_1's l1: 0.291296\n",
      "[86]\ttraining's l2: 0.120334\ttraining's l1: 0.267663\tvalid_1's l2: 0.140888\tvalid_1's l1: 0.291059\n",
      "[87]\ttraining's l2: 0.120152\ttraining's l1: 0.267365\tvalid_1's l2: 0.140763\tvalid_1's l1: 0.29084\n",
      "[88]\ttraining's l2: 0.119987\ttraining's l1: 0.267093\tvalid_1's l2: 0.140641\tvalid_1's l1: 0.29062\n",
      "[89]\ttraining's l2: 0.119816\ttraining's l1: 0.266817\tvalid_1's l2: 0.1405\tvalid_1's l1: 0.29042\n",
      "[90]\ttraining's l2: 0.119643\ttraining's l1: 0.266531\tvalid_1's l2: 0.140367\tvalid_1's l1: 0.290216\n",
      "[91]\ttraining's l2: 0.119358\ttraining's l1: 0.266146\tvalid_1's l2: 0.140156\tvalid_1's l1: 0.289911\n",
      "[92]\ttraining's l2: 0.119091\ttraining's l1: 0.265765\tvalid_1's l2: 0.139957\tvalid_1's l1: 0.289643\n",
      "[93]\ttraining's l2: 0.118943\ttraining's l1: 0.265514\tvalid_1's l2: 0.139839\tvalid_1's l1: 0.289453\n",
      "[94]\ttraining's l2: 0.118785\ttraining's l1: 0.265249\tvalid_1's l2: 0.139715\tvalid_1's l1: 0.289256\n",
      "[95]\ttraining's l2: 0.118638\ttraining's l1: 0.265014\tvalid_1's l2: 0.139613\tvalid_1's l1: 0.289108\n",
      "[96]\ttraining's l2: 0.118428\ttraining's l1: 0.264702\tvalid_1's l2: 0.139473\tvalid_1's l1: 0.288891\n",
      "[97]\ttraining's l2: 0.118286\ttraining's l1: 0.264457\tvalid_1's l2: 0.139369\tvalid_1's l1: 0.288717\n",
      "[98]\ttraining's l2: 0.118111\ttraining's l1: 0.264198\tvalid_1's l2: 0.139232\tvalid_1's l1: 0.288532\n",
      "[99]\ttraining's l2: 0.117859\ttraining's l1: 0.263845\tvalid_1's l2: 0.139067\tvalid_1's l1: 0.288275\n",
      "[100]\ttraining's l2: 0.117623\ttraining's l1: 0.26349\tvalid_1's l2: 0.138872\tvalid_1's l1: 0.287977\n"
     ]
    },
    {
     "data": {
      "text/plain": [
       "LGBMRegressor(boosting_type='gbdt', class_weight=None, colsample_bytree=1.0,\n",
       "              importance_type='split', learning_rate=0.1, max_depth=-1,\n",
       "              metric=['l2', 'l1'], min_child_samples=20, min_child_weight=0.001,\n",
       "              min_split_gain=0.0, n_estimators=100, n_jobs=-1, num_leaves=31,\n",
       "              objective='regression', random_state=None, reg_alpha=0.0,\n",
       "              reg_lambda=0.0, silent=True, subsample=1.0,\n",
       "              subsample_for_bin=200000, subsample_freq=0)"
      ]
     },
     "execution_count": 78,
     "metadata": {},
     "output_type": "execute_result"
    }
   ],
   "source": [
    "#Adding Week Number as a numerical feature\n",
    "hyper_params = {\n",
    "    'boosting_type': 'gbdt',\n",
    "    'objective': 'regression',\n",
    "    'metric': ['l2', 'l1'],\n",
    "    'n_estimators' : 100\n",
    "}\n",
    "gbm2 = lgb.LGBMRegressor(**hyper_params)\n",
    "gbm2.fit(X_train, y_train,\n",
    "        eval_set=[(X_train, y_train),(X_test, y_test)],\n",
    "        eval_metric=['l1','l2'],\n",
    "        categorical_feature = ['DepotID','RouteID','ClientID','ProductID'],\n",
    "        verbose = True)"
   ]
  },
  {
   "cell_type": "code",
   "execution_count": 80,
   "metadata": {},
   "outputs": [
    {
     "name": "stdout",
     "output_type": "stream",
     "text": [
      "The rmse of prediction is: 0.37266\n"
     ]
    }
   ],
   "source": [
    "pred2 = gbm2.predict(X_test)\n",
    "# Basic RMSE\n",
    "print('The rmse of prediction is:', round(mean_squared_error(pred2, y_test) ** 0.5, 5))"
   ]
  },
  {
   "cell_type": "code",
   "execution_count": 81,
   "metadata": {},
   "outputs": [],
   "source": [
    "#No decrease in error using week as Numerical, but it makes more sense rather than being categorical."
   ]
  },
  {
   "cell_type": "code",
   "execution_count": 82,
   "metadata": {},
   "outputs": [
    {
     "data": {
      "text/html": [
       "<div>\n",
       "<style scoped>\n",
       "    .dataframe tbody tr th:only-of-type {\n",
       "        vertical-align: middle;\n",
       "    }\n",
       "\n",
       "    .dataframe tbody tr th {\n",
       "        vertical-align: top;\n",
       "    }\n",
       "\n",
       "    .dataframe thead th {\n",
       "        text-align: right;\n",
       "    }\n",
       "</style>\n",
       "<table border=\"1\" class=\"dataframe\">\n",
       "  <thead>\n",
       "    <tr style=\"text-align: right;\">\n",
       "      <th></th>\n",
       "      <th>Agencia_ID</th>\n",
       "      <th>Town</th>\n",
       "      <th>State</th>\n",
       "    </tr>\n",
       "  </thead>\n",
       "  <tbody>\n",
       "    <tr>\n",
       "      <td>0</td>\n",
       "      <td>1110</td>\n",
       "      <td>2008 AG. LAGO FILT</td>\n",
       "      <td>MÉXICO, D.F.</td>\n",
       "    </tr>\n",
       "    <tr>\n",
       "      <td>1</td>\n",
       "      <td>1111</td>\n",
       "      <td>2002 AG. AZCAPOTZALCO</td>\n",
       "      <td>MÉXICO, D.F.</td>\n",
       "    </tr>\n",
       "    <tr>\n",
       "      <td>2</td>\n",
       "      <td>1112</td>\n",
       "      <td>2004 AG. CUAUTITLAN</td>\n",
       "      <td>ESTADO DE MÉXICO</td>\n",
       "    </tr>\n",
       "    <tr>\n",
       "      <td>3</td>\n",
       "      <td>1113</td>\n",
       "      <td>2008 AG. LAGO FILT</td>\n",
       "      <td>MÉXICO, D.F.</td>\n",
       "    </tr>\n",
       "    <tr>\n",
       "      <td>4</td>\n",
       "      <td>1114</td>\n",
       "      <td>2029 AG.IZTAPALAPA 2</td>\n",
       "      <td>MÉXICO, D.F.</td>\n",
       "    </tr>\n",
       "  </tbody>\n",
       "</table>\n",
       "</div>"
      ],
      "text/plain": [
       "   Agencia_ID                   Town             State\n",
       "0        1110     2008 AG. LAGO FILT      MÉXICO, D.F.\n",
       "1        1111  2002 AG. AZCAPOTZALCO      MÉXICO, D.F.\n",
       "2        1112    2004 AG. CUAUTITLAN  ESTADO DE MÉXICO\n",
       "3        1113     2008 AG. LAGO FILT      MÉXICO, D.F.\n",
       "4        1114   2029 AG.IZTAPALAPA 2      MÉXICO, D.F."
      ]
     },
     "execution_count": 82,
     "metadata": {},
     "output_type": "execute_result"
    }
   ],
   "source": [
    "#Using town ID as a categorical feature\n",
    "townstate.head()"
   ]
  },
  {
   "cell_type": "code",
   "execution_count": 11,
   "metadata": {},
   "outputs": [],
   "source": [
    "townValues = townstate['Town'].value_counts()\n",
    "townID = pd.DataFrame(data=townValues.index.values, columns=['Name'])"
   ]
  },
  {
   "cell_type": "code",
   "execution_count": 19,
   "metadata": {},
   "outputs": [],
   "source": [
    "townstate = townstate.merge(townID,left_on=['Town'],right_on=['Name'])"
   ]
  },
  {
   "cell_type": "code",
   "execution_count": 20,
   "metadata": {},
   "outputs": [],
   "source": [
    "train['TownID'] = train.reset_index().merge(townstate,left_on=['DepotID'],\n",
    "                                            right_on=['Agencia_ID']).set_index('index_x')['index_y']"
   ]
  },
  {
   "cell_type": "code",
   "execution_count": 21,
   "metadata": {},
   "outputs": [],
   "source": [
    "productValues = productdata['shortname'].value_counts()\n",
    "productID = pd.DataFrame(data=productValues.index.values, columns=['Name'])"
   ]
  },
  {
   "cell_type": "code",
   "execution_count": 23,
   "metadata": {},
   "outputs": [],
   "source": [
    "productdata = productdata.merge(productID,left_on=['shortname'],right_on=['Name'])"
   ]
  },
  {
   "cell_type": "code",
   "execution_count": 25,
   "metadata": {},
   "outputs": [],
   "source": [
    "train['CatProductID'] = train.reset_index().merge(productdata,left_on=['ProductID'],\n",
    "                                                  right_on=['Producto_ID']).set_index('index_x')['index_y']"
   ]
  },
  {
   "cell_type": "code",
   "execution_count": 29,
   "metadata": {},
   "outputs": [],
   "source": [
    "#ClientID should be unique\n",
    "clientdata = clientdata.merge(cleanClientData,left_on=['NombreCliente'],right_on=['Name'])\n",
    "uniclientData = clientdata.groupby(['Cliente_ID']).mean().reset_index()\n",
    "train['CleanClientID'] = train.reset_index().merge(uniclientData,left_on=['ClientID'],\n",
    "                                                  right_on=['Cliente_ID']).set_index('index_x')['index_y']"
   ]
  },
  {
   "cell_type": "code",
   "execution_count": 30,
   "metadata": {},
   "outputs": [
    {
     "data": {
      "text/html": [
       "<div>\n",
       "<style scoped>\n",
       "    .dataframe tbody tr th:only-of-type {\n",
       "        vertical-align: middle;\n",
       "    }\n",
       "\n",
       "    .dataframe tbody tr th {\n",
       "        vertical-align: top;\n",
       "    }\n",
       "\n",
       "    .dataframe thead th {\n",
       "        text-align: right;\n",
       "    }\n",
       "</style>\n",
       "<table border=\"1\" class=\"dataframe\">\n",
       "  <thead>\n",
       "    <tr style=\"text-align: right;\">\n",
       "      <th></th>\n",
       "      <th>Unnamed: 0</th>\n",
       "      <th>WeekNumber</th>\n",
       "      <th>DepotID</th>\n",
       "      <th>SalesChannelID</th>\n",
       "      <th>RouteID</th>\n",
       "      <th>ClientID</th>\n",
       "      <th>ProductID</th>\n",
       "      <th>SalesUnits</th>\n",
       "      <th>Sales</th>\n",
       "      <th>ReturnUnits</th>\n",
       "      <th>Returns</th>\n",
       "      <th>Demand</th>\n",
       "      <th>normDemand</th>\n",
       "      <th>TownID</th>\n",
       "      <th>CatProductID</th>\n",
       "      <th>CleanClientID</th>\n",
       "    </tr>\n",
       "  </thead>\n",
       "  <tbody>\n",
       "    <tr>\n",
       "      <td>0</td>\n",
       "      <td>0</td>\n",
       "      <td>3</td>\n",
       "      <td>1110</td>\n",
       "      <td>11</td>\n",
       "      <td>3501</td>\n",
       "      <td>24700</td>\n",
       "      <td>2233.0</td>\n",
       "      <td>15</td>\n",
       "      <td>299.10</td>\n",
       "      <td>0</td>\n",
       "      <td>0.0</td>\n",
       "      <td>15</td>\n",
       "      <td>1.823043</td>\n",
       "      <td>51</td>\n",
       "      <td>0</td>\n",
       "      <td>99824.0</td>\n",
       "    </tr>\n",
       "    <tr>\n",
       "      <td>2</td>\n",
       "      <td>2</td>\n",
       "      <td>3</td>\n",
       "      <td>1110</td>\n",
       "      <td>11</td>\n",
       "      <td>3501</td>\n",
       "      <td>49265</td>\n",
       "      <td>1146.0</td>\n",
       "      <td>2</td>\n",
       "      <td>42.78</td>\n",
       "      <td>0</td>\n",
       "      <td>0.0</td>\n",
       "      <td>2</td>\n",
       "      <td>0.922939</td>\n",
       "      <td>51</td>\n",
       "      <td>5</td>\n",
       "      <td>181695.0</td>\n",
       "    </tr>\n",
       "    <tr>\n",
       "      <td>4</td>\n",
       "      <td>4</td>\n",
       "      <td>3</td>\n",
       "      <td>1110</td>\n",
       "      <td>11</td>\n",
       "      <td>3501</td>\n",
       "      <td>49652</td>\n",
       "      <td>1146.0</td>\n",
       "      <td>4</td>\n",
       "      <td>85.56</td>\n",
       "      <td>0</td>\n",
       "      <td>0.0</td>\n",
       "      <td>4</td>\n",
       "      <td>1.251412</td>\n",
       "      <td>51</td>\n",
       "      <td>5</td>\n",
       "      <td>254327.0</td>\n",
       "    </tr>\n",
       "    <tr>\n",
       "      <td>5</td>\n",
       "      <td>5</td>\n",
       "      <td>3</td>\n",
       "      <td>1110</td>\n",
       "      <td>11</td>\n",
       "      <td>3501</td>\n",
       "      <td>49652</td>\n",
       "      <td>2233.0</td>\n",
       "      <td>10</td>\n",
       "      <td>199.40</td>\n",
       "      <td>0</td>\n",
       "      <td>0.0</td>\n",
       "      <td>10</td>\n",
       "      <td>1.662041</td>\n",
       "      <td>51</td>\n",
       "      <td>0</td>\n",
       "      <td>254327.0</td>\n",
       "    </tr>\n",
       "    <tr>\n",
       "      <td>7</td>\n",
       "      <td>7</td>\n",
       "      <td>3</td>\n",
       "      <td>1110</td>\n",
       "      <td>11</td>\n",
       "      <td>3501</td>\n",
       "      <td>1208432</td>\n",
       "      <td>641.0</td>\n",
       "      <td>2</td>\n",
       "      <td>81.90</td>\n",
       "      <td>0</td>\n",
       "      <td>0.0</td>\n",
       "      <td>2</td>\n",
       "      <td>0.922939</td>\n",
       "      <td>51</td>\n",
       "      <td>294</td>\n",
       "      <td>212637.0</td>\n",
       "    </tr>\n",
       "  </tbody>\n",
       "</table>\n",
       "</div>"
      ],
      "text/plain": [
       "   Unnamed: 0  WeekNumber  DepotID  SalesChannelID  RouteID  ClientID  \\\n",
       "0           0           3     1110              11     3501     24700   \n",
       "2           2           3     1110              11     3501     49265   \n",
       "4           4           3     1110              11     3501     49652   \n",
       "5           5           3     1110              11     3501     49652   \n",
       "7           7           3     1110              11     3501   1208432   \n",
       "\n",
       "   ProductID  SalesUnits   Sales  ReturnUnits  Returns  Demand  normDemand  \\\n",
       "0     2233.0          15  299.10            0      0.0      15    1.823043   \n",
       "2     1146.0           2   42.78            0      0.0       2    0.922939   \n",
       "4     1146.0           4   85.56            0      0.0       4    1.251412   \n",
       "5     2233.0          10  199.40            0      0.0      10    1.662041   \n",
       "7      641.0           2   81.90            0      0.0       2    0.922939   \n",
       "\n",
       "   TownID  CatProductID  CleanClientID  \n",
       "0      51             0        99824.0  \n",
       "2      51             5       181695.0  \n",
       "4      51             5       254327.0  \n",
       "5      51             0       254327.0  \n",
       "7      51           294       212637.0  "
      ]
     },
     "execution_count": 30,
     "metadata": {},
     "output_type": "execute_result"
    }
   ],
   "source": [
    "train.head()"
   ]
  },
  {
   "cell_type": "code",
   "execution_count": 34,
   "metadata": {},
   "outputs": [],
   "source": [
    "#Feature Engineering\n",
    "#SalesUnits sum for each ProductID\n",
    "train['AggProductSales'] = train.reset_index().merge(train.groupby('ProductID').sum()['SalesUnits'], on='ProductID').set_index('index')['SalesUnits_y']"
   ]
  },
  {
   "cell_type": "code",
   "execution_count": 37,
   "metadata": {},
   "outputs": [],
   "source": [
    "#Sales Units mean for each ProductID\n",
    "train['AvgProductSales'] = train.reset_index().merge(train.groupby('ProductID').mean()['SalesUnits'], on='ProductID').set_index('index')['SalesUnits_y']"
   ]
  },
  {
   "cell_type": "code",
   "execution_count": 51,
   "metadata": {},
   "outputs": [],
   "source": [
    "#demand for each client product combination\n",
    "train['AvgClientProdDemand'] = train.reset_index().merge(train.groupby(['ClientID','ProductID']).mean()['Demand'], on=['ClientID','ProductID']).set_index('index')['Demand_y']"
   ]
  },
  {
   "cell_type": "code",
   "execution_count": 41,
   "metadata": {},
   "outputs": [],
   "source": [
    "#demand for each client\n",
    "train['AvgClientDemand'] = train.reset_index().merge(train.groupby(['ClientID']).mean()['Demand'], on=['ClientID']).set_index('index')['Demand_y']"
   ]
  },
  {
   "cell_type": "code",
   "execution_count": 47,
   "metadata": {},
   "outputs": [],
   "source": [
    "#Agg Demand for product in each city.\n",
    "train['AggTownProductDemand'] = train.reset_index().merge(train.groupby(['TownID','ProductID']).sum()['Demand'], on=['TownID','ProductID']).set_index('index')['Demand_y']"
   ]
  },
  {
   "cell_type": "code",
   "execution_count": 48,
   "metadata": {},
   "outputs": [],
   "source": [
    "#Avg Demand for product in each city.\n",
    "train['AvgTownProductDemand'] = train.reset_index().merge(train.groupby(['TownID','ProductID']).mean()['Demand'], on=['TownID','ProductID']).set_index('index')['Demand_y']"
   ]
  },
  {
   "cell_type": "code",
   "execution_count": 52,
   "metadata": {},
   "outputs": [],
   "source": [
    "#Standard Deviation of product demand at each client.\n",
    "train['StdClientProdDemand'] = train.reset_index().merge(train.groupby(['ClientID','ProductID']).std()['Demand'], on=['ClientID','ProductID']).set_index('index')['Demand_y']"
   ]
  },
  {
   "cell_type": "code",
   "execution_count": 53,
   "metadata": {},
   "outputs": [],
   "source": [
    "#Weekly average demand of each product\n",
    "train['AvgWeeklyProdDemand'] = train.reset_index().merge(train.groupby(['WeekNumber','ProductID']).mean()['Demand'], on=['WeekNumber','ProductID']).set_index('index')['Demand_y']"
   ]
  },
  {
   "cell_type": "code",
   "execution_count": 54,
   "metadata": {},
   "outputs": [],
   "source": [
    "#Weekly agg demand of each product\n",
    "train['AggWeeklyProdDemand'] = train.reset_index().merge(train.groupby(['WeekNumber','ProductID']).sum()['Demand'], on=['WeekNumber','ProductID']).set_index('index')['Demand_y']"
   ]
  },
  {
   "cell_type": "code",
   "execution_count": 71,
   "metadata": {},
   "outputs": [],
   "source": [
    "#Demand for Prior week for Weeks -> 4,9\n",
    "for week in range(4,9):\n",
    "    indices = train[train['WeekNumber'] == week].index.values\n",
    "    train.loc[indices,'PriorWeekDem'] = train.reset_index().merge(train[train['WeekNumber'] == (week-1)].copy().groupby(['ClientID','ProductID']).mean()['Demand'], on=['ClientID','ProductID']).set_index('index')['Demand_y']\n"
   ]
  },
  {
   "cell_type": "code",
   "execution_count": 72,
   "metadata": {},
   "outputs": [
    {
     "data": {
      "text/html": [
       "<div>\n",
       "<style scoped>\n",
       "    .dataframe tbody tr th:only-of-type {\n",
       "        vertical-align: middle;\n",
       "    }\n",
       "\n",
       "    .dataframe tbody tr th {\n",
       "        vertical-align: top;\n",
       "    }\n",
       "\n",
       "    .dataframe thead th {\n",
       "        text-align: right;\n",
       "    }\n",
       "</style>\n",
       "<table border=\"1\" class=\"dataframe\">\n",
       "  <thead>\n",
       "    <tr style=\"text-align: right;\">\n",
       "      <th></th>\n",
       "      <th>WeekNumber</th>\n",
       "      <th>DepotID</th>\n",
       "      <th>SalesChannelID</th>\n",
       "      <th>RouteID</th>\n",
       "      <th>ClientID</th>\n",
       "      <th>ProductID</th>\n",
       "      <th>SalesUnits</th>\n",
       "      <th>Sales</th>\n",
       "      <th>ReturnUnits</th>\n",
       "      <th>Returns</th>\n",
       "      <th>...</th>\n",
       "      <th>AggProductSales</th>\n",
       "      <th>AvgProductSales</th>\n",
       "      <th>AvgClientProdDemand</th>\n",
       "      <th>AvgClientDemand</th>\n",
       "      <th>AggTownProductDemand</th>\n",
       "      <th>AvgTownProductDemand</th>\n",
       "      <th>StdClientProdDemand</th>\n",
       "      <th>AvgWeeklyProdDemand</th>\n",
       "      <th>AggWeeklyProdDemand</th>\n",
       "      <th>PriorWeekDem</th>\n",
       "    </tr>\n",
       "  </thead>\n",
       "  <tbody>\n",
       "    <tr>\n",
       "      <td>0</td>\n",
       "      <td>3</td>\n",
       "      <td>1110</td>\n",
       "      <td>11</td>\n",
       "      <td>3501</td>\n",
       "      <td>24700</td>\n",
       "      <td>2233.0</td>\n",
       "      <td>15</td>\n",
       "      <td>299.10</td>\n",
       "      <td>0</td>\n",
       "      <td>0.0</td>\n",
       "      <td>...</td>\n",
       "      <td>332676</td>\n",
       "      <td>9.959167</td>\n",
       "      <td>17.000000</td>\n",
       "      <td>17.000000</td>\n",
       "      <td>3523</td>\n",
       "      <td>7.339583</td>\n",
       "      <td>2.645751</td>\n",
       "      <td>9.532191</td>\n",
       "      <td>43381</td>\n",
       "      <td>NaN</td>\n",
       "    </tr>\n",
       "    <tr>\n",
       "      <td>2</td>\n",
       "      <td>3</td>\n",
       "      <td>1110</td>\n",
       "      <td>11</td>\n",
       "      <td>3501</td>\n",
       "      <td>49265</td>\n",
       "      <td>1146.0</td>\n",
       "      <td>2</td>\n",
       "      <td>42.78</td>\n",
       "      <td>0</td>\n",
       "      <td>0.0</td>\n",
       "      <td>...</td>\n",
       "      <td>218106</td>\n",
       "      <td>7.913574</td>\n",
       "      <td>2.000000</td>\n",
       "      <td>2.538462</td>\n",
       "      <td>2265</td>\n",
       "      <td>5.565111</td>\n",
       "      <td>0.000000</td>\n",
       "      <td>8.112520</td>\n",
       "      <td>30714</td>\n",
       "      <td>NaN</td>\n",
       "    </tr>\n",
       "    <tr>\n",
       "      <td>4</td>\n",
       "      <td>3</td>\n",
       "      <td>1110</td>\n",
       "      <td>11</td>\n",
       "      <td>3501</td>\n",
       "      <td>49652</td>\n",
       "      <td>1146.0</td>\n",
       "      <td>4</td>\n",
       "      <td>85.56</td>\n",
       "      <td>0</td>\n",
       "      <td>0.0</td>\n",
       "      <td>...</td>\n",
       "      <td>218106</td>\n",
       "      <td>7.913574</td>\n",
       "      <td>2.857143</td>\n",
       "      <td>6.214286</td>\n",
       "      <td>2265</td>\n",
       "      <td>5.565111</td>\n",
       "      <td>1.214986</td>\n",
       "      <td>8.112520</td>\n",
       "      <td>30714</td>\n",
       "      <td>NaN</td>\n",
       "    </tr>\n",
       "    <tr>\n",
       "      <td>5</td>\n",
       "      <td>3</td>\n",
       "      <td>1110</td>\n",
       "      <td>11</td>\n",
       "      <td>3501</td>\n",
       "      <td>49652</td>\n",
       "      <td>2233.0</td>\n",
       "      <td>10</td>\n",
       "      <td>199.40</td>\n",
       "      <td>0</td>\n",
       "      <td>0.0</td>\n",
       "      <td>...</td>\n",
       "      <td>332676</td>\n",
       "      <td>9.959167</td>\n",
       "      <td>9.571429</td>\n",
       "      <td>6.214286</td>\n",
       "      <td>3523</td>\n",
       "      <td>7.339583</td>\n",
       "      <td>3.207135</td>\n",
       "      <td>9.532191</td>\n",
       "      <td>43381</td>\n",
       "      <td>NaN</td>\n",
       "    </tr>\n",
       "    <tr>\n",
       "      <td>7</td>\n",
       "      <td>3</td>\n",
       "      <td>1110</td>\n",
       "      <td>11</td>\n",
       "      <td>3501</td>\n",
       "      <td>1208432</td>\n",
       "      <td>641.0</td>\n",
       "      <td>2</td>\n",
       "      <td>81.90</td>\n",
       "      <td>0</td>\n",
       "      <td>0.0</td>\n",
       "      <td>...</td>\n",
       "      <td>6216</td>\n",
       "      <td>5.447853</td>\n",
       "      <td>3.142857</td>\n",
       "      <td>2.875000</td>\n",
       "      <td>1691</td>\n",
       "      <td>7.384279</td>\n",
       "      <td>0.899735</td>\n",
       "      <td>5.789916</td>\n",
       "      <td>689</td>\n",
       "      <td>NaN</td>\n",
       "    </tr>\n",
       "  </tbody>\n",
       "</table>\n",
       "<p>5 rows × 25 columns</p>\n",
       "</div>"
      ],
      "text/plain": [
       "   WeekNumber  DepotID  SalesChannelID  RouteID  ClientID  ProductID  \\\n",
       "0           3     1110              11     3501     24700     2233.0   \n",
       "2           3     1110              11     3501     49265     1146.0   \n",
       "4           3     1110              11     3501     49652     1146.0   \n",
       "5           3     1110              11     3501     49652     2233.0   \n",
       "7           3     1110              11     3501   1208432      641.0   \n",
       "\n",
       "   SalesUnits   Sales  ReturnUnits  Returns  ...  AggProductSales  \\\n",
       "0          15  299.10            0      0.0  ...           332676   \n",
       "2           2   42.78            0      0.0  ...           218106   \n",
       "4           4   85.56            0      0.0  ...           218106   \n",
       "5          10  199.40            0      0.0  ...           332676   \n",
       "7           2   81.90            0      0.0  ...             6216   \n",
       "\n",
       "   AvgProductSales  AvgClientProdDemand  AvgClientDemand  \\\n",
       "0         9.959167            17.000000        17.000000   \n",
       "2         7.913574             2.000000         2.538462   \n",
       "4         7.913574             2.857143         6.214286   \n",
       "5         9.959167             9.571429         6.214286   \n",
       "7         5.447853             3.142857         2.875000   \n",
       "\n",
       "   AggTownProductDemand  AvgTownProductDemand  StdClientProdDemand  \\\n",
       "0                  3523              7.339583             2.645751   \n",
       "2                  2265              5.565111             0.000000   \n",
       "4                  2265              5.565111             1.214986   \n",
       "5                  3523              7.339583             3.207135   \n",
       "7                  1691              7.384279             0.899735   \n",
       "\n",
       "   AvgWeeklyProdDemand  AggWeeklyProdDemand  PriorWeekDem  \n",
       "0             9.532191                43381           NaN  \n",
       "2             8.112520                30714           NaN  \n",
       "4             8.112520                30714           NaN  \n",
       "5             9.532191                43381           NaN  \n",
       "7             5.789916                  689           NaN  \n",
       "\n",
       "[5 rows x 25 columns]"
      ]
     },
     "execution_count": 72,
     "metadata": {},
     "output_type": "execute_result"
    }
   ],
   "source": [
    "train.head()"
   ]
  },
  {
   "cell_type": "code",
   "execution_count": 73,
   "metadata": {},
   "outputs": [],
   "source": [
    "train.to_csv(\"ModTrain.csv\")"
   ]
  },
  {
   "cell_type": "code",
   "execution_count": 74,
   "metadata": {},
   "outputs": [],
   "source": [
    "del train"
   ]
  },
  {
   "cell_type": "code",
   "execution_count": 75,
   "metadata": {},
   "outputs": [
    {
     "data": {
      "text/plain": [
       "69654"
      ]
     },
     "execution_count": 75,
     "metadata": {},
     "output_type": "execute_result"
    }
   ],
   "source": [
    "import gc\n",
    "gc.collect()"
   ]
  },
  {
   "cell_type": "code",
   "execution_count": null,
   "metadata": {},
   "outputs": [],
   "source": []
  }
 ],
 "metadata": {
  "kernelspec": {
   "display_name": "Python 3",
   "language": "python",
   "name": "python3"
  },
  "language_info": {
   "codemirror_mode": {
    "name": "ipython",
    "version": 3
   },
   "file_extension": ".py",
   "mimetype": "text/x-python",
   "name": "python",
   "nbconvert_exporter": "python",
   "pygments_lexer": "ipython3",
   "version": "3.7.4"
  }
 },
 "nbformat": 4,
 "nbformat_minor": 2
}
