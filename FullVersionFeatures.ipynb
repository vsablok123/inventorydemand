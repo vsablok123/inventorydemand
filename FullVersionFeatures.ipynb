{
 "cells": [
  {
   "cell_type": "code",
   "execution_count": 1,
   "metadata": {},
   "outputs": [],
   "source": [
    "import numpy as np\n",
    "import pandas as pd\n",
    "import matplotlib.pyplot as plt\n",
    "import seaborn as sns"
   ]
  },
  {
   "cell_type": "code",
   "execution_count": null,
   "metadata": {},
   "outputs": [],
   "source": [
    "test = pd.read_csv(\"./test.csv/test.csv\")"
   ]
  },
  {
   "cell_type": "code",
   "execution_count": 2,
   "metadata": {},
   "outputs": [],
   "source": [
    "clientdata = pd.read_csv(\"./cliente_tabla.csv/cliente_tabla.csv\")\n",
    "productdata = pd.read_csv(\"./producto_tabla.csv/producto_tabla.csv\")\n",
    "townstate = pd.read_csv(\"./town_state.csv/town_state.csv\")"
   ]
  },
  {
   "cell_type": "code",
   "execution_count": 7,
   "metadata": {},
   "outputs": [],
   "source": [
    "import findspark\n",
    "findspark.init()"
   ]
  },
  {
   "cell_type": "code",
   "execution_count": 8,
   "metadata": {},
   "outputs": [],
   "source": [
    "import pyspark\n",
    "from pyspark.sql import SparkSession\n",
    "spark = SparkSession.builder.getOrCreate()"
   ]
  },
  {
   "cell_type": "code",
   "execution_count": 12,
   "metadata": {},
   "outputs": [],
   "source": [
    "from pyspark.sql.types import StructField,StringType,IntegerType,StructType, DoubleType, ShortType, ByteType\n",
    "data_schema = [StructField(\"WeekNumber\", ByteType(), True),StructField(\"DepotID\", ShortType(), True),\n",
    "              StructField(\"SalesChannelID\", ByteType(), True),StructField(\"RouteID\", ShortType(), True),\n",
    "              StructField(\"ClientID\", IntegerType(), True),StructField(\"ProductID\", ShortType(), True),\n",
    "              StructField(\"SalesUnits\", ShortType(), True),StructField(\"Sales\", DoubleType(), True),\n",
    "              StructField(\"ReturnUnits\", IntegerType(), True),StructField(\"Returns\", DoubleType(), True),\n",
    "              StructField(\"Demand\", IntegerType(), True)]\n",
    "final_struc = StructType(fields=data_schema)\n",
    "df = spark.read.csv(\"./train.csv/train.csv\", schema=final_struc)"
   ]
  },
  {
   "cell_type": "code",
   "execution_count": 10,
   "metadata": {},
   "outputs": [
    {
     "name": "stdout",
     "output_type": "stream",
     "text": [
      "root\n",
      " |-- WeekNumber: byte (nullable = true)\n",
      " |-- DepotID: short (nullable = true)\n",
      " |-- SalesChannelID: byte (nullable = true)\n",
      " |-- RouteID: short (nullable = true)\n",
      " |-- ClientID: integer (nullable = true)\n",
      " |-- ProductID: short (nullable = true)\n",
      " |-- SalesUnits: short (nullable = true)\n",
      " |-- Sales: double (nullable = true)\n",
      " |-- ReturnUnits: integer (nullable = true)\n",
      " |-- Returns: double (nullable = true)\n",
      " |-- Demand: integer (nullable = true)\n",
      "\n"
     ]
    }
   ],
   "source": []
  },
  {
   "cell_type": "code",
   "execution_count": 13,
   "metadata": {},
   "outputs": [],
   "source": [
    "import dask\n",
    "import dask.dataframe as dd"
   ]
  },
  {
   "cell_type": "code",
   "execution_count": 3,
   "metadata": {},
   "outputs": [],
   "source": [
    "# Loading in the train data\n",
    "dtypes = {'Semana':'uint8',\n",
    "          'Agencia_ID': 'uint16',\n",
    "          'Canal_ID': 'uint8',\n",
    "          'Ruta_SAK': 'uint16',\n",
    "          'Cliente_ID': 'uint32',\n",
    "          'Producto_ID': 'uint16',\n",
    "          'Venta_uni_hoy': 'uint16',\n",
    "          'Venta_hoy': 'float64',\n",
    "          'Dev_uni_proxima': 'uint32',\n",
    "          'Dev_proxima': 'float64',\n",
    "          'Demanda_uni_equil': 'uint16'}\n"
   ]
  },
  {
   "cell_type": "code",
   "execution_count": 27,
   "metadata": {},
   "outputs": [
    {
     "data": {
      "text/plain": [
       "50"
      ]
     },
     "execution_count": 27,
     "metadata": {},
     "output_type": "execute_result"
    }
   ],
   "source": [
    "    "
   ]
  },
  {
   "cell_type": "code",
   "execution_count": 4,
   "metadata": {},
   "outputs": [
    {
     "data": {
      "text/plain": [
       "930500"
      ]
     },
     "execution_count": 4,
     "metadata": {},
     "output_type": "execute_result"
    }
   ],
   "source": [
    "clientdata['Cliente_ID'].nunique()"
   ]
  },
  {
   "cell_type": "code",
   "execution_count": 5,
   "metadata": {},
   "outputs": [
    {
     "data": {
      "text/plain": [
       "2592"
      ]
     },
     "execution_count": 5,
     "metadata": {},
     "output_type": "execute_result"
    }
   ],
   "source": [
    "productdata['Producto_ID'].nunique()"
   ]
  },
  {
   "cell_type": "code",
   "execution_count": 4,
   "metadata": {},
   "outputs": [],
   "source": [
    "#We will try to use 20% of client data in eah chunk and then merge those chunks together to create the final training set.\n",
    "tablesList = []\n",
    "chunkIter = pd.read_csv(\"./train.csv/train.csv\", dtype=dtypes,  chunksize= 1000000, usecols=['Semana',\n",
    "          'Agencia_ID',\n",
    "          'Canal_ID',\n",
    "          'Ruta_SAK',\n",
    "          'Cliente_ID',\n",
    "          'Producto_ID',\n",
    "          'Venta_uni_hoy',\n",
    "          'Dev_uni_proxima',\n",
    "          'Demanda_uni_equil'])\n",
    "for index, chunk in enumerate(chunkIter):\n",
    "    table = chunk.sample(frac =0.2) \n",
    "    tablesList.append(table)"
   ]
  },
  {
   "cell_type": "code",
   "execution_count": 5,
   "metadata": {},
   "outputs": [],
   "source": [
    "train = pd.concat(tablesList)"
   ]
  },
  {
   "cell_type": "code",
   "execution_count": 24,
   "metadata": {},
   "outputs": [],
   "source": [
    "#Feature Engineering which needs to be applied to the whole data set. "
   ]
  },
  {
   "cell_type": "code",
   "execution_count": 6,
   "metadata": {},
   "outputs": [],
   "source": [
    "ClientCounts = clientdata['NombreCliente'].value_counts()\n",
    "cleanClientData = pd.DataFrame(data=ClientCounts.index.values, columns=['Name'])\n",
    "cleanClientData.reset_index(inplace=True)"
   ]
  },
  {
   "cell_type": "code",
   "execution_count": 7,
   "metadata": {},
   "outputs": [
    {
     "data": {
      "text/html": [
       "<div>\n",
       "<style scoped>\n",
       "    .dataframe tbody tr th:only-of-type {\n",
       "        vertical-align: middle;\n",
       "    }\n",
       "\n",
       "    .dataframe tbody tr th {\n",
       "        vertical-align: top;\n",
       "    }\n",
       "\n",
       "    .dataframe thead th {\n",
       "        text-align: right;\n",
       "    }\n",
       "</style>\n",
       "<table border=\"1\" class=\"dataframe\">\n",
       "  <thead>\n",
       "    <tr style=\"text-align: right;\">\n",
       "      <th></th>\n",
       "      <th>Producto_ID</th>\n",
       "      <th>NombreProducto</th>\n",
       "      <th>shortname</th>\n",
       "      <th>index</th>\n",
       "      <th>Name</th>\n",
       "    </tr>\n",
       "  </thead>\n",
       "  <tbody>\n",
       "    <tr>\n",
       "      <td>0</td>\n",
       "      <td>0</td>\n",
       "      <td>NO IDENTIFICADO 0</td>\n",
       "      <td>NO IDENTIFICADO</td>\n",
       "      <td>606</td>\n",
       "      <td>NO IDENTIFICADO</td>\n",
       "    </tr>\n",
       "    <tr>\n",
       "      <td>1</td>\n",
       "      <td>9</td>\n",
       "      <td>Capuccino Moka 750g NES 9</td>\n",
       "      <td>Capuccino Moka</td>\n",
       "      <td>688</td>\n",
       "      <td>Capuccino Moka</td>\n",
       "    </tr>\n",
       "    <tr>\n",
       "      <td>2</td>\n",
       "      <td>41</td>\n",
       "      <td>Bimbollos Ext sAjonjoli 6p 480g BIM 41</td>\n",
       "      <td>Bimbollos Ext sAjonjoli</td>\n",
       "      <td>172</td>\n",
       "      <td>Bimbollos Ext sAjonjoli</td>\n",
       "    </tr>\n",
       "    <tr>\n",
       "      <td>3</td>\n",
       "      <td>34850</td>\n",
       "      <td>Bimbollos Ext sAjonjoli 6p 480g TNB BIM 34850</td>\n",
       "      <td>Bimbollos Ext sAjonjoli</td>\n",
       "      <td>172</td>\n",
       "      <td>Bimbollos Ext sAjonjoli</td>\n",
       "    </tr>\n",
       "    <tr>\n",
       "      <td>4</td>\n",
       "      <td>43128</td>\n",
       "      <td>Bimbollos Ext sAjonjoli 6p 480g MTA BIM 43128</td>\n",
       "      <td>Bimbollos Ext sAjonjoli</td>\n",
       "      <td>172</td>\n",
       "      <td>Bimbollos Ext sAjonjoli</td>\n",
       "    </tr>\n",
       "    <tr>\n",
       "      <td>...</td>\n",
       "      <td>...</td>\n",
       "      <td>...</td>\n",
       "      <td>...</td>\n",
       "      <td>...</td>\n",
       "      <td>...</td>\n",
       "    </tr>\n",
       "    <tr>\n",
       "      <td>2587</td>\n",
       "      <td>49773</td>\n",
       "      <td>Bombonete San Valentin 3p 55g MLA 49773</td>\n",
       "      <td>Bombonete San Valentin</td>\n",
       "      <td>748</td>\n",
       "      <td>Bombonete San Valentin</td>\n",
       "    </tr>\n",
       "    <tr>\n",
       "      <td>2588</td>\n",
       "      <td>49835</td>\n",
       "      <td>Bimkingo Clasico Prom 135g LON 49835</td>\n",
       "      <td>Bimkingo Clasico Prom</td>\n",
       "      <td>1001</td>\n",
       "      <td>Bimkingo Clasico Prom</td>\n",
       "    </tr>\n",
       "    <tr>\n",
       "      <td>2589</td>\n",
       "      <td>49944</td>\n",
       "      <td>Pan Blanco Bimbo Rendidor 567g TNB BIM 49944</td>\n",
       "      <td>Pan Blanco Bimbo Rendidor</td>\n",
       "      <td>242</td>\n",
       "      <td>Pan Blanco Bimbo Rendidor</td>\n",
       "    </tr>\n",
       "    <tr>\n",
       "      <td>2590</td>\n",
       "      <td>49972</td>\n",
       "      <td>Pan Blanco Bimbo Rendidor 567g MTA BIM 49972</td>\n",
       "      <td>Pan Blanco Bimbo Rendidor</td>\n",
       "      <td>242</td>\n",
       "      <td>Pan Blanco Bimbo Rendidor</td>\n",
       "    </tr>\n",
       "    <tr>\n",
       "      <td>2591</td>\n",
       "      <td>49973</td>\n",
       "      <td>Pan Blanco Bimbo Rendidor 567g BIM 49973</td>\n",
       "      <td>Pan Blanco Bimbo Rendidor</td>\n",
       "      <td>242</td>\n",
       "      <td>Pan Blanco Bimbo Rendidor</td>\n",
       "    </tr>\n",
       "  </tbody>\n",
       "</table>\n",
       "<p>2592 rows × 5 columns</p>\n",
       "</div>"
      ],
      "text/plain": [
       "      Producto_ID                                 NombreProducto  \\\n",
       "0               0                              NO IDENTIFICADO 0   \n",
       "1               9                      Capuccino Moka 750g NES 9   \n",
       "2              41         Bimbollos Ext sAjonjoli 6p 480g BIM 41   \n",
       "3           34850  Bimbollos Ext sAjonjoli 6p 480g TNB BIM 34850   \n",
       "4           43128  Bimbollos Ext sAjonjoli 6p 480g MTA BIM 43128   \n",
       "...           ...                                            ...   \n",
       "2587        49773        Bombonete San Valentin 3p 55g MLA 49773   \n",
       "2588        49835           Bimkingo Clasico Prom 135g LON 49835   \n",
       "2589        49944   Pan Blanco Bimbo Rendidor 567g TNB BIM 49944   \n",
       "2590        49972   Pan Blanco Bimbo Rendidor 567g MTA BIM 49972   \n",
       "2591        49973       Pan Blanco Bimbo Rendidor 567g BIM 49973   \n",
       "\n",
       "                      shortname  index                       Name  \n",
       "0               NO IDENTIFICADO    606            NO IDENTIFICADO  \n",
       "1                Capuccino Moka    688             Capuccino Moka  \n",
       "2       Bimbollos Ext sAjonjoli    172    Bimbollos Ext sAjonjoli  \n",
       "3       Bimbollos Ext sAjonjoli    172    Bimbollos Ext sAjonjoli  \n",
       "4       Bimbollos Ext sAjonjoli    172    Bimbollos Ext sAjonjoli  \n",
       "...                         ...    ...                        ...  \n",
       "2587     Bombonete San Valentin    748     Bombonete San Valentin  \n",
       "2588      Bimkingo Clasico Prom   1001      Bimkingo Clasico Prom  \n",
       "2589  Pan Blanco Bimbo Rendidor    242  Pan Blanco Bimbo Rendidor  \n",
       "2590  Pan Blanco Bimbo Rendidor    242  Pan Blanco Bimbo Rendidor  \n",
       "2591  Pan Blanco Bimbo Rendidor    242  Pan Blanco Bimbo Rendidor  \n",
       "\n",
       "[2592 rows x 5 columns]"
      ]
     },
     "execution_count": 7,
     "metadata": {},
     "output_type": "execute_result"
    }
   ],
   "source": [
    "import re\n",
    "#Split the string at the first digit character:\n",
    "productdata['shortname'] = productdata['NombreProducto'].apply(lambda x:  re.split(\"\\s\\d\", x, 1)[0])\n",
    "productValues = productdata['shortname'].value_counts()\n",
    "productID = pd.DataFrame(data=productValues.index.values, columns=['Name'])\n",
    "productID.reset_index(inplace=True)\n",
    "productdata = productdata.merge(productID,left_on=['shortname'],right_on=['Name'])\n",
    "productdata"
   ]
  },
  {
   "cell_type": "code",
   "execution_count": 8,
   "metadata": {},
   "outputs": [],
   "source": [
    "train['CatProductID'] = train.reset_index().merge(productdata,left_on=['Producto_ID'],\n",
    "                                                  right_on=['Producto_ID']).set_index('index_x')['index_y']"
   ]
  },
  {
   "cell_type": "code",
   "execution_count": 9,
   "metadata": {},
   "outputs": [],
   "source": [
    "#ClientID should be unique\n",
    "clientdata = clientdata.merge(cleanClientData,left_on=['NombreCliente'],right_on=['Name'])\n",
    "uniclientData = clientdata.groupby(['Cliente_ID']).mean().reset_index()"
   ]
  },
  {
   "cell_type": "code",
   "execution_count": 10,
   "metadata": {},
   "outputs": [],
   "source": [
    "train['CleanClientID'] = train.reset_index().merge(uniclientData,left_on=['Cliente_ID'],\n",
    "                                                  right_on=['Cliente_ID']).set_index('index_x')['index_y']"
   ]
  },
  {
   "cell_type": "code",
   "execution_count": 11,
   "metadata": {},
   "outputs": [],
   "source": [
    "townValues = townstate['Town'].value_counts()\n",
    "townID = pd.DataFrame(data=townValues.index.values, columns=['Name'])"
   ]
  },
  {
   "cell_type": "code",
   "execution_count": 12,
   "metadata": {},
   "outputs": [],
   "source": [
    "townstate = townstate.merge(townID,left_on=['Town'],right_on=['Name'])\n",
    "townstate.reset_index(inplace=True)"
   ]
  },
  {
   "cell_type": "code",
   "execution_count": 13,
   "metadata": {},
   "outputs": [],
   "source": [
    "train['TownID'] = train.reset_index().merge(townstate,left_on=['Agencia_ID'],\n",
    "                                            right_on=['Agencia_ID']).set_index('index_x')['index_y']"
   ]
  },
  {
   "cell_type": "code",
   "execution_count": 69,
   "metadata": {},
   "outputs": [],
   "source": []
  },
  {
   "cell_type": "code",
   "execution_count": 36,
   "metadata": {},
   "outputs": [],
   "source": [
    "#Dividing data into featureInput, train and cv sets\n",
    "featureInput = train[train['Semana'] < 6].copy()\n",
    "trainSet = train[(train['Semana'] == 6) | (train['Semana'] == 7)].copy()\n",
    "crossVal = train[train['Semana'] == 8].copy()\n"
   ]
  },
  {
   "cell_type": "code",
   "execution_count": null,
   "metadata": {},
   "outputs": [],
   "source": [
    "trainSet['AggProductSales'] = trainSet.reset_index().merge(featureInput.groupby('Producto_ID').sum()['Demanda_uni_equil'], on='Producto_ID').set_index('index')['Demanda_uni_equil_y']\n",
    "trainSet['AvgClientProdDemand'] = trainSet.reset_index().merge(train.groupby(['ClientID','ProductID']).mean()['Demanda_uni_equil'], on=['ClientID','ProductID']).set_index('index')['Demand_y']\n",
    "trainSet['AvgWeeklyClientDemand'] = trainSet.reset_index().merge((train.groupby(['ClientID']).sum()['Demanda_uni_equil'])/3, on=['ClientID']).set_index('index')['Demand_y']\n",
    "trainSet['AggTownProductDemand'] = trainSet.reset_index().merge(train.groupby(['TownID','ProductID']).sum()['Demanda_uni_equil'], on=['TownID','ProductID']).set_index('index')['Demand_y']\n",
    "trainSet['StdClientProdDemand'] = trainSet.reset_index().merge(train.groupby(['ClientID','ProductID']).std()['Demanda_uni_equil'], on=['ClientID','ProductID']).set_index('index')['Demand_y']\n",
    "#agg demand of product on a route\n",
    "#Number of routes in a depot\n",
    "#Product Count for each client in each town"
   ]
  },
  {
   "cell_type": "code",
   "execution_count": 87,
   "metadata": {},
   "outputs": [],
   "source": []
  },
  {
   "cell_type": "code",
   "execution_count": 88,
   "metadata": {},
   "outputs": [
    {
     "data": {
      "text/html": [
       "<div>\n",
       "<style scoped>\n",
       "    .dataframe tbody tr th:only-of-type {\n",
       "        vertical-align: middle;\n",
       "    }\n",
       "\n",
       "    .dataframe tbody tr th {\n",
       "        vertical-align: top;\n",
       "    }\n",
       "\n",
       "    .dataframe thead th {\n",
       "        text-align: right;\n",
       "    }\n",
       "</style>\n",
       "<table border=\"1\" class=\"dataframe\">\n",
       "  <thead>\n",
       "    <tr style=\"text-align: right;\">\n",
       "      <th></th>\n",
       "      <th>Semana</th>\n",
       "      <th>Agencia_ID</th>\n",
       "      <th>Canal_ID</th>\n",
       "      <th>Ruta_SAK</th>\n",
       "      <th>Cliente_ID</th>\n",
       "      <th>Producto_ID</th>\n",
       "      <th>Venta_uni_hoy</th>\n",
       "      <th>Dev_uni_proxima</th>\n",
       "      <th>Demanda_uni_equil</th>\n",
       "      <th>CatProductID</th>\n",
       "      <th>CleanClientID</th>\n",
       "      <th>TownID</th>\n",
       "      <th>AggProductSales</th>\n",
       "      <th>AvgClientProdDemand</th>\n",
       "      <th>AvgWeeklyClientDemand</th>\n",
       "      <th>AggTownProductDemand</th>\n",
       "      <th>StdClientProdDemand</th>\n",
       "      <th>AggRouteProdDemand</th>\n",
       "      <th>NoOfRoutesinDepot</th>\n",
       "      <th>AverageClientProdCount</th>\n",
       "    </tr>\n",
       "  </thead>\n",
       "  <tbody>\n",
       "    <tr>\n",
       "      <td>32928484</td>\n",
       "      <td>6</td>\n",
       "      <td>1113</td>\n",
       "      <td>1</td>\n",
       "      <td>2803</td>\n",
       "      <td>4504456</td>\n",
       "      <td>30575</td>\n",
       "      <td>1</td>\n",
       "      <td>0</td>\n",
       "      <td>1</td>\n",
       "      <td>18</td>\n",
       "      <td>0.0</td>\n",
       "      <td>72</td>\n",
       "      <td>609859.0</td>\n",
       "      <td>NaN</td>\n",
       "      <td>3.333333</td>\n",
       "      <td>3504.0</td>\n",
       "      <td>NaN</td>\n",
       "      <td>4247.0</td>\n",
       "      <td>356.0</td>\n",
       "      <td>1.333333</td>\n",
       "    </tr>\n",
       "    <tr>\n",
       "      <td>32796211</td>\n",
       "      <td>6</td>\n",
       "      <td>1110</td>\n",
       "      <td>7</td>\n",
       "      <td>3321</td>\n",
       "      <td>1549700</td>\n",
       "      <td>35651</td>\n",
       "      <td>8</td>\n",
       "      <td>0</td>\n",
       "      <td>8</td>\n",
       "      <td>53</td>\n",
       "      <td>145071.0</td>\n",
       "      <td>72</td>\n",
       "      <td>815192.0</td>\n",
       "      <td>NaN</td>\n",
       "      <td>11.333333</td>\n",
       "      <td>8984.0</td>\n",
       "      <td>NaN</td>\n",
       "      <td>239.0</td>\n",
       "      <td>184.0</td>\n",
       "      <td>2.666667</td>\n",
       "    </tr>\n",
       "    <tr>\n",
       "      <td>32987108</td>\n",
       "      <td>6</td>\n",
       "      <td>1116</td>\n",
       "      <td>1</td>\n",
       "      <td>1619</td>\n",
       "      <td>118224</td>\n",
       "      <td>323</td>\n",
       "      <td>2</td>\n",
       "      <td>0</td>\n",
       "      <td>2</td>\n",
       "      <td>94</td>\n",
       "      <td>2550.0</td>\n",
       "      <td>1</td>\n",
       "      <td>27104.0</td>\n",
       "      <td>NaN</td>\n",
       "      <td>93.000000</td>\n",
       "      <td>1673.0</td>\n",
       "      <td>NaN</td>\n",
       "      <td>642.0</td>\n",
       "      <td>543.0</td>\n",
       "      <td>9.666667</td>\n",
       "    </tr>\n",
       "    <tr>\n",
       "      <td>32816128</td>\n",
       "      <td>6</td>\n",
       "      <td>1111</td>\n",
       "      <td>1</td>\n",
       "      <td>1215</td>\n",
       "      <td>4243092</td>\n",
       "      <td>1272</td>\n",
       "      <td>1</td>\n",
       "      <td>0</td>\n",
       "      <td>1</td>\n",
       "      <td>660</td>\n",
       "      <td>0.0</td>\n",
       "      <td>48</td>\n",
       "      <td>13250.0</td>\n",
       "      <td>3.0</td>\n",
       "      <td>23.333333</td>\n",
       "      <td>646.0</td>\n",
       "      <td>NaN</td>\n",
       "      <td>22.0</td>\n",
       "      <td>489.0</td>\n",
       "      <td>7.000000</td>\n",
       "    </tr>\n",
       "    <tr>\n",
       "      <td>32856302</td>\n",
       "      <td>6</td>\n",
       "      <td>1111</td>\n",
       "      <td>1</td>\n",
       "      <td>4413</td>\n",
       "      <td>39168</td>\n",
       "      <td>32846</td>\n",
       "      <td>3</td>\n",
       "      <td>0</td>\n",
       "      <td>3</td>\n",
       "      <td>76</td>\n",
       "      <td>600.0</td>\n",
       "      <td>48</td>\n",
       "      <td>7182.0</td>\n",
       "      <td>NaN</td>\n",
       "      <td>43.000000</td>\n",
       "      <td>137.0</td>\n",
       "      <td>NaN</td>\n",
       "      <td>76.0</td>\n",
       "      <td>250.0</td>\n",
       "      <td>7.666667</td>\n",
       "    </tr>\n",
       "    <tr>\n",
       "      <td>...</td>\n",
       "      <td>...</td>\n",
       "      <td>...</td>\n",
       "      <td>...</td>\n",
       "      <td>...</td>\n",
       "      <td>...</td>\n",
       "      <td>...</td>\n",
       "      <td>...</td>\n",
       "      <td>...</td>\n",
       "      <td>...</td>\n",
       "      <td>...</td>\n",
       "      <td>...</td>\n",
       "      <td>...</td>\n",
       "      <td>...</td>\n",
       "      <td>...</td>\n",
       "      <td>...</td>\n",
       "      <td>...</td>\n",
       "      <td>...</td>\n",
       "      <td>...</td>\n",
       "      <td>...</td>\n",
       "      <td>...</td>\n",
       "    </tr>\n",
       "    <tr>\n",
       "      <td>53239660</td>\n",
       "      <td>7</td>\n",
       "      <td>23879</td>\n",
       "      <td>1</td>\n",
       "      <td>1022</td>\n",
       "      <td>8355695</td>\n",
       "      <td>1146</td>\n",
       "      <td>1</td>\n",
       "      <td>0</td>\n",
       "      <td>1</td>\n",
       "      <td>5</td>\n",
       "      <td>839.0</td>\n",
       "      <td>256</td>\n",
       "      <td>544784.0</td>\n",
       "      <td>NaN</td>\n",
       "      <td>9.666667</td>\n",
       "      <td>636.0</td>\n",
       "      <td>NaN</td>\n",
       "      <td>5598.0</td>\n",
       "      <td>113.0</td>\n",
       "      <td>3.000000</td>\n",
       "    </tr>\n",
       "    <tr>\n",
       "      <td>53219380</td>\n",
       "      <td>7</td>\n",
       "      <td>23719</td>\n",
       "      <td>1</td>\n",
       "      <td>1166</td>\n",
       "      <td>508800</td>\n",
       "      <td>35651</td>\n",
       "      <td>1</td>\n",
       "      <td>0</td>\n",
       "      <td>1</td>\n",
       "      <td>53</td>\n",
       "      <td>173.0</td>\n",
       "      <td>240</td>\n",
       "      <td>815192.0</td>\n",
       "      <td>NaN</td>\n",
       "      <td>2.666667</td>\n",
       "      <td>884.0</td>\n",
       "      <td>NaN</td>\n",
       "      <td>2818.0</td>\n",
       "      <td>444.0</td>\n",
       "      <td>1.666667</td>\n",
       "    </tr>\n",
       "    <tr>\n",
       "      <td>53118711</td>\n",
       "      <td>7</td>\n",
       "      <td>22414</td>\n",
       "      <td>1</td>\n",
       "      <td>1209</td>\n",
       "      <td>263573</td>\n",
       "      <td>1220</td>\n",
       "      <td>4</td>\n",
       "      <td>0</td>\n",
       "      <td>4</td>\n",
       "      <td>176</td>\n",
       "      <td>2523.0</td>\n",
       "      <td>235</td>\n",
       "      <td>260296.0</td>\n",
       "      <td>2.0</td>\n",
       "      <td>9.333333</td>\n",
       "      <td>1409.0</td>\n",
       "      <td>NaN</td>\n",
       "      <td>1348.0</td>\n",
       "      <td>310.0</td>\n",
       "      <td>2.333333</td>\n",
       "    </tr>\n",
       "    <tr>\n",
       "      <td>53162746</td>\n",
       "      <td>7</td>\n",
       "      <td>22560</td>\n",
       "      <td>1</td>\n",
       "      <td>1259</td>\n",
       "      <td>678147</td>\n",
       "      <td>31423</td>\n",
       "      <td>8</td>\n",
       "      <td>0</td>\n",
       "      <td>8</td>\n",
       "      <td>227</td>\n",
       "      <td>4976.0</td>\n",
       "      <td>238</td>\n",
       "      <td>130442.0</td>\n",
       "      <td>12.0</td>\n",
       "      <td>139.666667</td>\n",
       "      <td>1348.0</td>\n",
       "      <td>NaN</td>\n",
       "      <td>262.0</td>\n",
       "      <td>504.0</td>\n",
       "      <td>6.666667</td>\n",
       "    </tr>\n",
       "    <tr>\n",
       "      <td>53033063</td>\n",
       "      <td>7</td>\n",
       "      <td>22187</td>\n",
       "      <td>1</td>\n",
       "      <td>1157</td>\n",
       "      <td>4499777</td>\n",
       "      <td>2425</td>\n",
       "      <td>36</td>\n",
       "      <td>0</td>\n",
       "      <td>36</td>\n",
       "      <td>43</td>\n",
       "      <td>0.0</td>\n",
       "      <td>255</td>\n",
       "      <td>2041605.0</td>\n",
       "      <td>NaN</td>\n",
       "      <td>21.000000</td>\n",
       "      <td>25011.0</td>\n",
       "      <td>NaN</td>\n",
       "      <td>26455.0</td>\n",
       "      <td>503.0</td>\n",
       "      <td>6.000000</td>\n",
       "    </tr>\n",
       "  </tbody>\n",
       "</table>\n",
       "<p>4115046 rows × 20 columns</p>\n",
       "</div>"
      ],
      "text/plain": [
       "          Semana  Agencia_ID  Canal_ID  Ruta_SAK  Cliente_ID  Producto_ID  \\\n",
       "32928484       6        1113         1      2803     4504456        30575   \n",
       "32796211       6        1110         7      3321     1549700        35651   \n",
       "32987108       6        1116         1      1619      118224          323   \n",
       "32816128       6        1111         1      1215     4243092         1272   \n",
       "32856302       6        1111         1      4413       39168        32846   \n",
       "...          ...         ...       ...       ...         ...          ...   \n",
       "53239660       7       23879         1      1022     8355695         1146   \n",
       "53219380       7       23719         1      1166      508800        35651   \n",
       "53118711       7       22414         1      1209      263573         1220   \n",
       "53162746       7       22560         1      1259      678147        31423   \n",
       "53033063       7       22187         1      1157     4499777         2425   \n",
       "\n",
       "          Venta_uni_hoy  Dev_uni_proxima  Demanda_uni_equil  CatProductID  \\\n",
       "32928484              1                0                  1            18   \n",
       "32796211              8                0                  8            53   \n",
       "32987108              2                0                  2            94   \n",
       "32816128              1                0                  1           660   \n",
       "32856302              3                0                  3            76   \n",
       "...                 ...              ...                ...           ...   \n",
       "53239660              1                0                  1             5   \n",
       "53219380              1                0                  1            53   \n",
       "53118711              4                0                  4           176   \n",
       "53162746              8                0                  8           227   \n",
       "53033063             36                0                 36            43   \n",
       "\n",
       "          CleanClientID  TownID  AggProductSales  AvgClientProdDemand  \\\n",
       "32928484            0.0      72         609859.0                  NaN   \n",
       "32796211       145071.0      72         815192.0                  NaN   \n",
       "32987108         2550.0       1          27104.0                  NaN   \n",
       "32816128            0.0      48          13250.0                  3.0   \n",
       "32856302          600.0      48           7182.0                  NaN   \n",
       "...                 ...     ...              ...                  ...   \n",
       "53239660          839.0     256         544784.0                  NaN   \n",
       "53219380          173.0     240         815192.0                  NaN   \n",
       "53118711         2523.0     235         260296.0                  2.0   \n",
       "53162746         4976.0     238         130442.0                 12.0   \n",
       "53033063            0.0     255        2041605.0                  NaN   \n",
       "\n",
       "          AvgWeeklyClientDemand  AggTownProductDemand  StdClientProdDemand  \\\n",
       "32928484               3.333333                3504.0                  NaN   \n",
       "32796211              11.333333                8984.0                  NaN   \n",
       "32987108              93.000000                1673.0                  NaN   \n",
       "32816128              23.333333                 646.0                  NaN   \n",
       "32856302              43.000000                 137.0                  NaN   \n",
       "...                         ...                   ...                  ...   \n",
       "53239660               9.666667                 636.0                  NaN   \n",
       "53219380               2.666667                 884.0                  NaN   \n",
       "53118711               9.333333                1409.0                  NaN   \n",
       "53162746             139.666667                1348.0                  NaN   \n",
       "53033063              21.000000               25011.0                  NaN   \n",
       "\n",
       "          AggRouteProdDemand  NoOfRoutesinDepot  AverageClientProdCount  \n",
       "32928484              4247.0              356.0                1.333333  \n",
       "32796211               239.0              184.0                2.666667  \n",
       "32987108               642.0              543.0                9.666667  \n",
       "32816128                22.0              489.0                7.000000  \n",
       "32856302                76.0              250.0                7.666667  \n",
       "...                      ...                ...                     ...  \n",
       "53239660              5598.0              113.0                3.000000  \n",
       "53219380              2818.0              444.0                1.666667  \n",
       "53118711              1348.0              310.0                2.333333  \n",
       "53162746               262.0              504.0                6.666667  \n",
       "53033063             26455.0              503.0                6.000000  \n",
       "\n",
       "[4115046 rows x 20 columns]"
      ]
     },
     "execution_count": 88,
     "metadata": {},
     "output_type": "execute_result"
    }
   ],
   "source": [
    "trainSet"
   ]
  },
  {
   "cell_type": "code",
   "execution_count": 91,
   "metadata": {},
   "outputs": [],
   "source": [
    "#Demand for Prior 3 weeks for Weeks -> 3,4,5\n",
    "for week in range(6,8):\n",
    "    for prevweek in range(1,4):\n",
    "        indices = trainSet[trainSet['Semana'] == week].index.values\n",
    "        trainSet.loc[indices,('PriorWeekDem'+ str(prevweek))] = trainSet.reset_index().merge(featureInput[featureInput['Semana'] == (week-prevweek)].copy().groupby(['Cliente_ID','Producto_ID']).mean()['Demanda_uni_equil'], on=['Cliente_ID','Producto_ID']).set_index('index')['Demanda_uni_equil_y']\n",
    "\n",
    "   "
   ]
  },
  {
   "cell_type": "code",
   "execution_count": 58,
   "metadata": {},
   "outputs": [],
   "source": [
    " #Categorical demand for previous 2 weeks.\n",
    "for week in range(6,8):\n",
    "    for prevweek in range(1,3):\n",
    "        indices = trainSet[trainSet['Semana'] == week].index.values\n",
    "        trainSet.loc[indices,('PriorWeekCatDem'+ str(prevweek))] = trainSet.reset_index().merge(featureInput[featureInput['Semana'] == (week-prevweek)].copy().groupby(['CleanClientID','CatProductID']).mean()['Demanda_uni_equil'], on=['CleanClientID','CatProductID']).set_index('Unnamed: 0')['Demanda_uni_equil_y']\n"
   ]
  },
  {
   "cell_type": "code",
   "execution_count": 93,
   "metadata": {},
   "outputs": [],
   "source": [
    "#Applying similar changes on the test set as well"
   ]
  },
  {
   "cell_type": "code",
   "execution_count": 18,
   "metadata": {},
   "outputs": [],
   "source": [
    "def featureExtraction(trainSet,featureInput, startweek, endweek, numWeeks):\n",
    "    trainSet['AggProductSales'] = trainSet.reset_index().merge(featureInput.groupby('Producto_ID').sum()['Demanda_uni_equil'], on='Producto_ID').set_index('index')['Demanda_uni_equil_y']\n",
    "    trainSet['AvgClientProdDemand'] = trainSet.reset_index().merge(featureInput.groupby(['Cliente_ID','Producto_ID']).mean()['Demanda_uni_equil'], on=['Cliente_ID','Producto_ID']).set_index('index')['Demanda_uni_equil_y']\n",
    "    trainSet['AvgWeeklyClientDemand'] = trainSet.reset_index().merge((featureInput.groupby(['Cliente_ID']).sum()['Demanda_uni_equil'])/numWeeks, on=['Cliente_ID']).set_index('index')['Demanda_uni_equil_y']\n",
    "    trainSet['AggTownProductDemand'] = trainSet.reset_index().merge(featureInput.groupby(['TownID','Producto_ID']).sum()['Demanda_uni_equil'], on=['TownID','Producto_ID']).set_index('index')['Demanda_uni_equil_y']\n",
    "    trainSet['StdClientProdDemand'] = trainSet.reset_index().merge(featureInput.groupby(['Cliente_ID','Producto_ID']).std()['Demanda_uni_equil'], on=['Cliente_ID','Producto_ID']).set_index('index')['Demanda_uni_equil_y']\n",
    "    trainSet['AggRouteProdDemand'] = trainSet.reset_index().merge(featureInput.groupby(['Ruta_SAK','Producto_ID']).sum()['Demanda_uni_equil']/numWeeks, on=['Ruta_SAK','Producto_ID']).set_index('index')['Demanda_uni_equil_y']\n",
    "    trainSet['NoOfRoutesinDepot'] = trainSet.reset_index().merge(featureInput.groupby(['Agencia_ID','Ruta_SAK']).count()['Demanda_uni_equil']/numWeeks, on=['Agencia_ID','Ruta_SAK']).set_index('index')['Demanda_uni_equil_y']\n",
    "    trainSet['AverageClientProdCount'] = trainSet.reset_index().merge(featureInput.groupby(['Cliente_ID']).count()['Demanda_uni_equil']/numWeeks, on=['Cliente_ID']).set_index('index')['Demanda_uni_equil_y']\n",
    "\n",
    "    for week in range(startweek,endweek):\n",
    "        for prevweek in range(1,4):\n",
    "            indices = trainSet[trainSet['Semana'] == week].index.values\n",
    "            trainSet.loc[indices,('PriorWeekDem'+ str(prevweek))] = trainSet.reset_index().merge(featureInput[featureInput['Semana'] == (week-prevweek)].copy().groupby(['Cliente_ID','Producto_ID']).mean()['Demanda_uni_equil'], on=['Cliente_ID','Producto_ID']).set_index('index')['Demanda_uni_equil_y']\n"
   ]
  },
  {
   "cell_type": "code",
   "execution_count": 46,
   "metadata": {},
   "outputs": [],
   "source": [
    "#Running the feature extraction for testset\n",
    "featureInput = train[train['Semana'] < 8].copy()\n",
    "featureExtraction(crossVal, featureInput, 8, 9, 5)"
   ]
  },
  {
   "cell_type": "code",
   "execution_count": 24,
   "metadata": {},
   "outputs": [
    {
     "data": {
      "text/html": [
       "<div>\n",
       "<style scoped>\n",
       "    .dataframe tbody tr th:only-of-type {\n",
       "        vertical-align: middle;\n",
       "    }\n",
       "\n",
       "    .dataframe tbody tr th {\n",
       "        vertical-align: top;\n",
       "    }\n",
       "\n",
       "    .dataframe thead th {\n",
       "        text-align: right;\n",
       "    }\n",
       "</style>\n",
       "<table border=\"1\" class=\"dataframe\">\n",
       "  <thead>\n",
       "    <tr style=\"text-align: right;\">\n",
       "      <th></th>\n",
       "      <th>Semana</th>\n",
       "      <th>Agencia_ID</th>\n",
       "      <th>Canal_ID</th>\n",
       "      <th>Ruta_SAK</th>\n",
       "      <th>Cliente_ID</th>\n",
       "      <th>Producto_ID</th>\n",
       "      <th>Venta_uni_hoy</th>\n",
       "      <th>Dev_uni_proxima</th>\n",
       "      <th>Demanda_uni_equil</th>\n",
       "      <th>CatProductID</th>\n",
       "      <th>...</th>\n",
       "      <th>AggTownProductDemand</th>\n",
       "      <th>StdClientProdDemand</th>\n",
       "      <th>AggRouteProdDemand</th>\n",
       "      <th>NoOfRoutesinDepot</th>\n",
       "      <th>AverageClientProdCount</th>\n",
       "      <th>PriorWeekDem1</th>\n",
       "      <th>PriorWeekDem2</th>\n",
       "      <th>PriorWeekDem3</th>\n",
       "      <th>PriorWeekCatDem1</th>\n",
       "      <th>PriorWeekCatDem2</th>\n",
       "    </tr>\n",
       "  </thead>\n",
       "  <tbody>\n",
       "    <tr>\n",
       "      <td>53692946</td>\n",
       "      <td>8</td>\n",
       "      <td>1118</td>\n",
       "      <td>1</td>\n",
       "      <td>1203</td>\n",
       "      <td>4406352</td>\n",
       "      <td>1109</td>\n",
       "      <td>4</td>\n",
       "      <td>0</td>\n",
       "      <td>4</td>\n",
       "      <td>108</td>\n",
       "      <td>...</td>\n",
       "      <td>10771.0</td>\n",
       "      <td>NaN</td>\n",
       "      <td>753.2</td>\n",
       "      <td>160.6</td>\n",
       "      <td>5.0</td>\n",
       "      <td>NaN</td>\n",
       "      <td>NaN</td>\n",
       "      <td>NaN</td>\n",
       "      <td>2.599327</td>\n",
       "      <td>2.565740</td>\n",
       "    </tr>\n",
       "    <tr>\n",
       "      <td>53983224</td>\n",
       "      <td>8</td>\n",
       "      <td>1122</td>\n",
       "      <td>1</td>\n",
       "      <td>1498</td>\n",
       "      <td>603536</td>\n",
       "      <td>1232</td>\n",
       "      <td>11</td>\n",
       "      <td>0</td>\n",
       "      <td>11</td>\n",
       "      <td>238</td>\n",
       "      <td>...</td>\n",
       "      <td>9834.0</td>\n",
       "      <td>NaN</td>\n",
       "      <td>30.0</td>\n",
       "      <td>153.8</td>\n",
       "      <td>6.0</td>\n",
       "      <td>NaN</td>\n",
       "      <td>NaN</td>\n",
       "      <td>NaN</td>\n",
       "      <td>NaN</td>\n",
       "      <td>NaN</td>\n",
       "    </tr>\n",
       "    <tr>\n",
       "      <td>53875816</td>\n",
       "      <td>8</td>\n",
       "      <td>1121</td>\n",
       "      <td>1</td>\n",
       "      <td>1415</td>\n",
       "      <td>2086994</td>\n",
       "      <td>972</td>\n",
       "      <td>2</td>\n",
       "      <td>0</td>\n",
       "      <td>2</td>\n",
       "      <td>37</td>\n",
       "      <td>...</td>\n",
       "      <td>3220.0</td>\n",
       "      <td>0.0</td>\n",
       "      <td>242.0</td>\n",
       "      <td>190.4</td>\n",
       "      <td>5.6</td>\n",
       "      <td>4.0</td>\n",
       "      <td>NaN</td>\n",
       "      <td>NaN</td>\n",
       "      <td>2.666667</td>\n",
       "      <td>2.000000</td>\n",
       "    </tr>\n",
       "    <tr>\n",
       "      <td>53428789</td>\n",
       "      <td>8</td>\n",
       "      <td>1111</td>\n",
       "      <td>1</td>\n",
       "      <td>2123</td>\n",
       "      <td>4557817</td>\n",
       "      <td>31507</td>\n",
       "      <td>3</td>\n",
       "      <td>0</td>\n",
       "      <td>3</td>\n",
       "      <td>168</td>\n",
       "      <td>...</td>\n",
       "      <td>2792.0</td>\n",
       "      <td>NaN</td>\n",
       "      <td>579.2</td>\n",
       "      <td>42.2</td>\n",
       "      <td>0.2</td>\n",
       "      <td>NaN</td>\n",
       "      <td>NaN</td>\n",
       "      <td>NaN</td>\n",
       "      <td>5.137011</td>\n",
       "      <td>5.094823</td>\n",
       "    </tr>\n",
       "    <tr>\n",
       "      <td>53655590</td>\n",
       "      <td>8</td>\n",
       "      <td>1117</td>\n",
       "      <td>1</td>\n",
       "      <td>1479</td>\n",
       "      <td>1035980</td>\n",
       "      <td>1230</td>\n",
       "      <td>2</td>\n",
       "      <td>2</td>\n",
       "      <td>0</td>\n",
       "      <td>193</td>\n",
       "      <td>...</td>\n",
       "      <td>2469.0</td>\n",
       "      <td>NaN</td>\n",
       "      <td>55.6</td>\n",
       "      <td>115.2</td>\n",
       "      <td>5.6</td>\n",
       "      <td>NaN</td>\n",
       "      <td>NaN</td>\n",
       "      <td>NaN</td>\n",
       "      <td>1.833333</td>\n",
       "      <td>1.714286</td>\n",
       "    </tr>\n",
       "  </tbody>\n",
       "</table>\n",
       "<p>5 rows × 25 columns</p>\n",
       "</div>"
      ],
      "text/plain": [
       "          Semana  Agencia_ID  Canal_ID  Ruta_SAK  Cliente_ID  Producto_ID  \\\n",
       "53692946       8        1118         1      1203     4406352         1109   \n",
       "53983224       8        1122         1      1498      603536         1232   \n",
       "53875816       8        1121         1      1415     2086994          972   \n",
       "53428789       8        1111         1      2123     4557817        31507   \n",
       "53655590       8        1117         1      1479     1035980         1230   \n",
       "\n",
       "          Venta_uni_hoy  Dev_uni_proxima  Demanda_uni_equil  CatProductID  \\\n",
       "53692946              4                0                  4           108   \n",
       "53983224             11                0                 11           238   \n",
       "53875816              2                0                  2            37   \n",
       "53428789              3                0                  3           168   \n",
       "53655590              2                2                  0           193   \n",
       "\n",
       "          ...  AggTownProductDemand  StdClientProdDemand  AggRouteProdDemand  \\\n",
       "53692946  ...               10771.0                  NaN               753.2   \n",
       "53983224  ...                9834.0                  NaN                30.0   \n",
       "53875816  ...                3220.0                  0.0               242.0   \n",
       "53428789  ...                2792.0                  NaN               579.2   \n",
       "53655590  ...                2469.0                  NaN                55.6   \n",
       "\n",
       "          NoOfRoutesinDepot  AverageClientProdCount  PriorWeekDem1  \\\n",
       "53692946              160.6                     5.0            NaN   \n",
       "53983224              153.8                     6.0            NaN   \n",
       "53875816              190.4                     5.6            4.0   \n",
       "53428789               42.2                     0.2            NaN   \n",
       "53655590              115.2                     5.6            NaN   \n",
       "\n",
       "          PriorWeekDem2  PriorWeekDem3  PriorWeekCatDem1  PriorWeekCatDem2  \n",
       "53692946            NaN            NaN          2.599327          2.565740  \n",
       "53983224            NaN            NaN               NaN               NaN  \n",
       "53875816            NaN            NaN          2.666667          2.000000  \n",
       "53428789            NaN            NaN          5.137011          5.094823  \n",
       "53655590            NaN            NaN          1.833333          1.714286  \n",
       "\n",
       "[5 rows x 25 columns]"
      ]
     },
     "execution_count": 24,
     "metadata": {},
     "output_type": "execute_result"
    }
   ],
   "source": [
    "trainSet.head()"
   ]
  },
  {
   "cell_type": "code",
   "execution_count": 55,
   "metadata": {},
   "outputs": [],
   "source": [
    "trainSet = pd.read_csv(\"trainSet.csv\")\n",
    "trainSet.set_index(\"Unnamed: 0\", inplace = True)"
   ]
  },
  {
   "cell_type": "code",
   "execution_count": 47,
   "metadata": {},
   "outputs": [],
   "source": [
    "for week in range(8,9):\n",
    "        for prevweek in range(1,3):\n",
    "            indices = crossVal[crossVal['Semana'] == week].index.values\n",
    "            crossVal.loc[indices,('PriorWeekCatDem'+ str(prevweek))] = crossVal.reset_index().merge(featureInput[featureInput['Semana'] == (week-prevweek)].copy().groupby(['CleanClientID','CatProductID']).mean()['Demanda_uni_equil'], on=['CleanClientID','CatProductID']).set_index('index')['Demanda_uni_equil_y']\n"
   ]
  },
  {
   "cell_type": "code",
   "execution_count": 58,
   "metadata": {},
   "outputs": [
    {
     "data": {
      "text/plain": [
       "<matplotlib.axes._subplots.AxesSubplot at 0x2b732b10cc8>"
      ]
     },
     "execution_count": 58,
     "metadata": {},
     "output_type": "execute_result"
    },
    {
     "data": {
      "image/png": "[encoded data removed]",
      "text/plain": [
       "<Figure size 432x288 with 2 Axes>"
      ]
     },
     "metadata": {
      "needs_background": "light"
     },
     "output_type": "display_data"
    }
   ],
   "source": [
    "sns.heatmap(crossVal.isna())"
   ]
  },
  {
   "cell_type": "code",
   "execution_count": 31,
   "metadata": {},
   "outputs": [],
   "source": [
    "crossVal.dropna(thresh=19, inplace=True)"
   ]
  },
  {
   "cell_type": "code",
   "execution_count": 62,
   "metadata": {},
   "outputs": [
    {
     "ename": "TypeError",
     "evalue": "object of type 'NoneType' has no len()",
     "output_type": "error",
     "traceback": [
      "\u001b[1;31m---------------------------------------------------------------------------\u001b[0m",
      "\u001b[1;31mTypeError\u001b[0m                                 Traceback (most recent call last)",
      "\u001b[1;32m<ipython-input-62-bc0e414d3742>\u001b[0m in \u001b[0;36m<module>\u001b[1;34m\u001b[0m\n\u001b[1;32m----> 1\u001b[1;33m \u001b[0mlen\u001b[0m\u001b[1;33m(\u001b[0m\u001b[0mtrainSet\u001b[0m\u001b[1;33m.\u001b[0m\u001b[0mdropna\u001b[0m\u001b[1;33m(\u001b[0m\u001b[0mthresh\u001b[0m\u001b[1;33m=\u001b[0m\u001b[1;36m19\u001b[0m\u001b[1;33m,\u001b[0m \u001b[0minplace\u001b[0m\u001b[1;33m=\u001b[0m\u001b[1;32mTrue\u001b[0m\u001b[1;33m)\u001b[0m\u001b[1;33m)\u001b[0m\u001b[1;33m\u001b[0m\u001b[1;33m\u001b[0m\u001b[0m\n\u001b[0m",
      "\u001b[1;31mTypeError\u001b[0m: object of type 'NoneType' has no len()"
     ]
    }
   ],
   "source": [
    "trainSet.dropna(thresh=19, inplace=True)"
   ]
  },
  {
   "cell_type": "code",
   "execution_count": 54,
   "metadata": {},
   "outputs": [],
   "source": [
    "testSet.dropna(thresh=19, inplace=True)"
   ]
  },
  {
   "cell_type": "code",
   "execution_count": 63,
   "metadata": {},
   "outputs": [],
   "source": [
    "trainSet.drop(['Venta_uni_hoy','Dev_uni_proxima'], axis=1, inplace=True)\n",
    "crossVal.drop(['Venta_uni_hoy','Dev_uni_proxima'], axis=1, inplace=True)\n",
    "testSet.drop(['Venta_uni_hoy','Dev_uni_proxima'], axis=1, inplace=True)"
   ]
  },
  {
   "cell_type": "code",
   "execution_count": 26,
   "metadata": {},
   "outputs": [],
   "source": [
    "testSet = train[train['Semana'] == 9].copy()\n",
    "featureInputforTest = train[train['Semana'] < 9].copy()\n",
    "featureExtraction(testSet, featureInputforTest, 9, 10, 6)"
   ]
  },
  {
   "cell_type": "code",
   "execution_count": 28,
   "metadata": {},
   "outputs": [],
   "source": [
    "for week in range(9,10):\n",
    "        for prevweek in range(1,3):\n",
    "            indices = testSet[testSet['Semana'] == week].index.values\n",
    "            testSet.loc[indices,('PriorWeekCatDem'+ str(prevweek))] = testSet.reset_index().merge(featureInput[featureInput['Semana'] == (week-prevweek)].copy().groupby(['CleanClientID','CatProductID']).mean()['Demanda_uni_equil'], on=['CleanClientID','CatProductID']).set_index('index')['Demanda_uni_equil_y']\n"
   ]
  },
  {
   "cell_type": "code",
   "execution_count": 72,
   "metadata": {},
   "outputs": [
    {
     "data": {
      "text/plain": [
       "Semana                    7.000000e+00\n",
       "Agencia_ID                2.575900e+04\n",
       "Canal_ID                  1.100000e+01\n",
       "Ruta_SAK                  9.962000e+03\n",
       "Cliente_ID                2.015152e+09\n",
       "Producto_ID               4.999400e+04\n",
       "Demanda_uni_equil         4.165000e+03\n",
       "CatProductID              1.014000e+03\n",
       "CleanClientID             3.111520e+05\n",
       "TownID                    2.590000e+02\n",
       "AggProductSales           2.041605e+06\n",
       "AvgClientProdDemand       4.011000e+03\n",
       "AvgWeeklyClientDemand     5.275037e+05\n",
       "AggTownProductDemand      1.017600e+05\n",
       "StdClientProdDemand       1.780495e+03\n",
       "AggRouteProdDemand        3.234100e+04\n",
       "NoOfRoutesinDepot         8.490000e+02\n",
       "AverageClientProdCount    3.582333e+03\n",
       "PriorWeekDem1             4.011000e+03\n",
       "PriorWeekDem2             3.920000e+03\n",
       "PriorWeekDem3             2.956000e+03\n",
       "PriorWeekCatDem1          2.118000e+03\n",
       "PriorWeekCatDem2          1.886500e+03\n",
       "dtype: float64"
      ]
     },
     "execution_count": 72,
     "metadata": {},
     "output_type": "execute_result"
    }
   ],
   "source": [
    "trainSet.max()"
   ]
  },
  {
   "cell_type": "code",
   "execution_count": null,
   "metadata": {},
   "outputs": [],
   "source": []
  },
  {
   "cell_type": "code",
   "execution_count": 75,
   "metadata": {},
   "outputs": [],
   "source": [
    "dtypes = {'Semana':'uint8',\n",
    "          'Agencia_ID': 'uint16',\n",
    "          'Canal_ID': 'uint8',\n",
    "          'Ruta_SAK': 'uint16',\n",
    "          'Cliente_ID': 'uint32',\n",
    "          'Producto_ID': 'uint16',\n",
    "          'Demanda_uni_equil': 'uint16',\n",
    "          'CatProductID' : 'uint16',\n",
    "          'CleanClientID' : 'float16',\n",
    "          'TownID' : 'uint16',\n",
    "          'AggProductSales' : 'float32',\n",
    "          'AvgClientProdDemand' : 'float16',\n",
    "          'AggTownProductDemand' : 'float32',\n",
    "          'AvgWeeklyClientDemand' : 'float32',\n",
    "          'StdClientProdDemand' : 'float16',\n",
    "          'AggRouteProdDemand' : 'float16',\n",
    "          'NoOfRoutesinDepot' : 'float16',\n",
    "          'AverageClientProdCount' : 'float16',\n",
    "          'PriorWeekDem1' : 'float16',\n",
    "          'PriorWeekDem2' : 'float16',\n",
    "          'PriorWeekDem3' : 'float16',\n",
    "          'PriorWeekCatDem1' : 'float16',\n",
    "          'PriorWeekCatDem2' : 'float16'\n",
    "         }"
   ]
  },
  {
   "cell_type": "code",
   "execution_count": 78,
   "metadata": {},
   "outputs": [],
   "source": [
    "trainSet = trainSet.astype(dtypes)\n",
    "crossVal = crossVal.astype(dtypes)\n",
    "testSet = testSet.astype(dtypes)"
   ]
  },
  {
   "cell_type": "code",
   "execution_count": 79,
   "metadata": {},
   "outputs": [
    {
     "data": {
      "text/plain": [
       "<matplotlib.axes._subplots.AxesSubplot at 0x2d813040208>"
      ]
     },
     "execution_count": 79,
     "metadata": {},
     "output_type": "execute_result"
    },
    {
     "data": {
      "image/png": "[encoded data removed]",
      "text/plain": [
       "<Figure size 432x288 with 2 Axes>"
      ]
     },
     "metadata": {
      "needs_background": "light"
     },
     "output_type": "display_data"
    }
   ],
   "source": [
    "sns.heatmap(trainSet.isna())"
   ]
  },
  {
   "cell_type": "code",
   "execution_count": 87,
   "metadata": {},
   "outputs": [],
   "source": [
    "trainSet.to_csv(\"TrainingSet.csv\")\n"
   ]
  },
  {
   "cell_type": "code",
   "execution_count": 86,
   "metadata": {},
   "outputs": [],
   "source": [
    "crossVal.to_csv(\"CrossVal.csv\")\n",
    "testSet.to_csv(\"TestSet.csv\")\n",
    "train.to_csv(\"FullVerTrain.csv\")"
   ]
  },
  {
   "cell_type": "code",
   "execution_count": 88,
   "metadata": {},
   "outputs": [
    {
     "name": "stdout",
     "output_type": "stream",
     "text": [
      "<class 'pandas.core.frame.DataFrame'>\n",
      "Int64Index: 2171712 entries, 32928484 to 53033063\n",
      "Data columns (total 23 columns):\n",
      "Semana                    uint8\n",
      "Agencia_ID                uint16\n",
      "Canal_ID                  uint8\n",
      "Ruta_SAK                  uint16\n",
      "Cliente_ID                uint32\n",
      "Producto_ID               uint16\n",
      "Demanda_uni_equil         uint16\n",
      "CatProductID              uint16\n",
      "CleanClientID             float16\n",
      "TownID                    uint16\n",
      "AggProductSales           float32\n",
      "AvgClientProdDemand       float16\n",
      "AvgWeeklyClientDemand     float32\n",
      "AggTownProductDemand      float32\n",
      "StdClientProdDemand       float16\n",
      "AggRouteProdDemand        float16\n",
      "NoOfRoutesinDepot         float16\n",
      "AverageClientProdCount    float16\n",
      "PriorWeekDem1             float16\n",
      "PriorWeekDem2             float16\n",
      "PriorWeekDem3             float16\n",
      "PriorWeekCatDem1          float16\n",
      "PriorWeekCatDem2          float16\n",
      "dtypes: float16(11), float32(3), uint16(6), uint32(1), uint8(2)\n",
      "memory usage: 124.3 MB\n"
     ]
    }
   ],
   "source": [
    "trainSet.info()"
   ]
  },
  {
   "cell_type": "code",
   "execution_count": null,
   "metadata": {},
   "outputs": [],
   "source": []
  }
 ],
 "metadata": {
  "kernelspec": {
   "display_name": "Python 3",
   "language": "python",
   "name": "python3"
  },
  "language_info": {
   "codemirror_mode": {
    "name": "ipython",
    "version": 3
   },
   "file_extension": ".py",
   "mimetype": "text/x-python",
   "name": "python",
   "nbconvert_exporter": "python",
   "pygments_lexer": "ipython3",
   "version": "3.7.4"
  }
 },
 "nbformat": 4,
 "nbformat_minor": 2
}
